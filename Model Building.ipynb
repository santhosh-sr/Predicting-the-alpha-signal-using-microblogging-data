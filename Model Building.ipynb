{
 "cells": [
  {
   "cell_type": "markdown",
   "metadata": {},
   "source": [
    "# Model Building "
   ]
  },
  {
   "cell_type": "markdown",
   "metadata": {},
   "source": [
    "###  Importing Library"
   ]
  },
  {
   "cell_type": "code",
   "execution_count": 1,
   "metadata": {},
   "outputs": [],
   "source": [
    "import pandas as pd\n",
    "import matplotlib.pyplot as plt\n",
    "import seaborn as sns\n",
    "import numpy as np\n",
    "\n",
    "import warnings\n",
    "\n",
    "import copy\n",
    "warnings.filterwarnings(\"ignore\")"
   ]
  },
  {
   "cell_type": "markdown",
   "metadata": {},
   "source": [
    "### Read the preprocessed data "
   ]
  },
  {
   "cell_type": "code",
   "execution_count": 2,
   "metadata": {},
   "outputs": [],
   "source": [
    "data_factors=pd.read_csv(\"final_data_factors_main.csv\",index_col=0)"
   ]
  },
  {
   "cell_type": "code",
   "execution_count": 3,
   "metadata": {},
   "outputs": [],
   "source": [
    "data_twitter = pd.read_csv(\"final_data_twitter_main.csv\",index_col=0)"
   ]
  },
  {
   "cell_type": "code",
   "execution_count": 4,
   "metadata": {},
   "outputs": [],
   "source": [
    "data_twitter_main = data_twitter"
   ]
  },
  {
   "cell_type": "code",
   "execution_count": 5,
   "metadata": {},
   "outputs": [
    {
     "data": {
      "text/html": [
       "<div>\n",
       "<style scoped>\n",
       "    .dataframe tbody tr th:only-of-type {\n",
       "        vertical-align: middle;\n",
       "    }\n",
       "\n",
       "    .dataframe tbody tr th {\n",
       "        vertical-align: top;\n",
       "    }\n",
       "\n",
       "    .dataframe thead th {\n",
       "        text-align: right;\n",
       "    }\n",
       "</style>\n",
       "<table border=\"1\" class=\"dataframe\">\n",
       "  <thead>\n",
       "    <tr style=\"text-align: right;\">\n",
       "      <th></th>\n",
       "      <th>date</th>\n",
       "      <th>ticker</th>\n",
       "      <th>SF1</th>\n",
       "      <th>SF2</th>\n",
       "      <th>SF3</th>\n",
       "      <th>SF4</th>\n",
       "      <th>SF5</th>\n",
       "      <th>SF6</th>\n",
       "      <th>SF7</th>\n",
       "      <th>alpha</th>\n",
       "      <th>month</th>\n",
       "    </tr>\n",
       "  </thead>\n",
       "  <tbody>\n",
       "    <tr>\n",
       "      <th>0</th>\n",
       "      <td>2018-08-21</td>\n",
       "      <td>NTAP</td>\n",
       "      <td>-0.628652</td>\n",
       "      <td>0.988891</td>\n",
       "      <td>-0.055714</td>\n",
       "      <td>0.774379</td>\n",
       "      <td>0.551089</td>\n",
       "      <td>-1.329229</td>\n",
       "      <td>-0.995539</td>\n",
       "      <td>2</td>\n",
       "      <td>8</td>\n",
       "    </tr>\n",
       "    <tr>\n",
       "      <th>1</th>\n",
       "      <td>2018-10-11</td>\n",
       "      <td>WYNN</td>\n",
       "      <td>1.315786</td>\n",
       "      <td>1.438754</td>\n",
       "      <td>0.187327</td>\n",
       "      <td>0.608933</td>\n",
       "      <td>-1.153030</td>\n",
       "      <td>1.859441</td>\n",
       "      <td>0.730995</td>\n",
       "      <td>3</td>\n",
       "      <td>10</td>\n",
       "    </tr>\n",
       "    <tr>\n",
       "      <th>2</th>\n",
       "      <td>2018-08-21</td>\n",
       "      <td>DRI</td>\n",
       "      <td>-1.141388</td>\n",
       "      <td>-1.455016</td>\n",
       "      <td>0.332755</td>\n",
       "      <td>0.674502</td>\n",
       "      <td>0.111326</td>\n",
       "      <td>-0.478597</td>\n",
       "      <td>-1.488157</td>\n",
       "      <td>1</td>\n",
       "      <td>8</td>\n",
       "    </tr>\n",
       "    <tr>\n",
       "      <th>3</th>\n",
       "      <td>2018-07-10</td>\n",
       "      <td>GE</td>\n",
       "      <td>-0.054839</td>\n",
       "      <td>-1.454149</td>\n",
       "      <td>-0.162267</td>\n",
       "      <td>-0.681870</td>\n",
       "      <td>0.307869</td>\n",
       "      <td>-0.529987</td>\n",
       "      <td>0.404172</td>\n",
       "      <td>2</td>\n",
       "      <td>7</td>\n",
       "    </tr>\n",
       "    <tr>\n",
       "      <th>4</th>\n",
       "      <td>2018-09-12</td>\n",
       "      <td>FE</td>\n",
       "      <td>-0.686366</td>\n",
       "      <td>0.838865</td>\n",
       "      <td>0.073830</td>\n",
       "      <td>0.679024</td>\n",
       "      <td>0.329463</td>\n",
       "      <td>1.262782</td>\n",
       "      <td>-1.024042</td>\n",
       "      <td>2</td>\n",
       "      <td>9</td>\n",
       "    </tr>\n",
       "  </tbody>\n",
       "</table>\n",
       "</div>"
      ],
      "text/plain": [
       "         date ticker       SF1       SF2       SF3       SF4       SF5  \\\n",
       "0  2018-08-21   NTAP -0.628652  0.988891 -0.055714  0.774379  0.551089   \n",
       "1  2018-10-11   WYNN  1.315786  1.438754  0.187327  0.608933 -1.153030   \n",
       "2  2018-08-21    DRI -1.141388 -1.455016  0.332755  0.674502  0.111326   \n",
       "3  2018-07-10     GE -0.054839 -1.454149 -0.162267 -0.681870  0.307869   \n",
       "4  2018-09-12     FE -0.686366  0.838865  0.073830  0.679024  0.329463   \n",
       "\n",
       "        SF6       SF7  alpha  month  \n",
       "0 -1.329229 -0.995539      2      8  \n",
       "1  1.859441  0.730995      3     10  \n",
       "2 -0.478597 -1.488157      1      8  \n",
       "3 -0.529987  0.404172      2      7  \n",
       "4  1.262782 -1.024042      2      9  "
      ]
     },
     "execution_count": 5,
     "metadata": {},
     "output_type": "execute_result"
    }
   ],
   "source": [
    "data_factors.head()"
   ]
  },
  {
   "cell_type": "code",
   "execution_count": 6,
   "metadata": {},
   "outputs": [
    {
     "data": {
      "text/html": [
       "<div>\n",
       "<style scoped>\n",
       "    .dataframe tbody tr th:only-of-type {\n",
       "        vertical-align: middle;\n",
       "    }\n",
       "\n",
       "    .dataframe tbody tr th {\n",
       "        vertical-align: top;\n",
       "    }\n",
       "\n",
       "    .dataframe thead th {\n",
       "        text-align: right;\n",
       "    }\n",
       "</style>\n",
       "<table border=\"1\" class=\"dataframe\">\n",
       "  <thead>\n",
       "    <tr style=\"text-align: right;\">\n",
       "      <th></th>\n",
       "      <th>sentiment_score</th>\n",
       "      <th>stocktwit_tweet</th>\n",
       "      <th>ticker</th>\n",
       "      <th>Date</th>\n",
       "      <th>date</th>\n",
       "      <th>month</th>\n",
       "    </tr>\n",
       "  </thead>\n",
       "  <tbody>\n",
       "    <tr>\n",
       "      <th>0</th>\n",
       "      <td>3</td>\n",
       "      <td>going hesitating chart stable going upward</td>\n",
       "      <td>AMD</td>\n",
       "      <td>2018-09-19</td>\n",
       "      <td>2018-09-19</td>\n",
       "      <td>9</td>\n",
       "    </tr>\n",
       "    <tr>\n",
       "      <th>1</th>\n",
       "      <td>3</td>\n",
       "      <td>despite china trade war held thumb</td>\n",
       "      <td>CAT</td>\n",
       "      <td>2018-10-09</td>\n",
       "      <td>2018-10-09</td>\n",
       "      <td>10</td>\n",
       "    </tr>\n",
       "    <tr>\n",
       "      <th>2</th>\n",
       "      <td>2</td>\n",
       "      <td>wtf</td>\n",
       "      <td>AVGO</td>\n",
       "      <td>2018-07-12</td>\n",
       "      <td>2018-07-12</td>\n",
       "      <td>7</td>\n",
       "    </tr>\n",
       "    <tr>\n",
       "      <th>3</th>\n",
       "      <td>2</td>\n",
       "      <td>new insider filing muller klaus peter transact...</td>\n",
       "      <td>PH</td>\n",
       "      <td>2018-07-19</td>\n",
       "      <td>2018-07-19</td>\n",
       "      <td>7</td>\n",
       "    </tr>\n",
       "    <tr>\n",
       "      <th>4</th>\n",
       "      <td>3</td>\n",
       "      <td>bounce tommorrow right thing gtfo</td>\n",
       "      <td>FB</td>\n",
       "      <td>2018-08-23</td>\n",
       "      <td>2018-08-23</td>\n",
       "      <td>8</td>\n",
       "    </tr>\n",
       "  </tbody>\n",
       "</table>\n",
       "</div>"
      ],
      "text/plain": [
       "   sentiment_score                                    stocktwit_tweet ticker  \\\n",
       "0                3         going hesitating chart stable going upward    AMD   \n",
       "1                3                 despite china trade war held thumb    CAT   \n",
       "2                2                                                wtf   AVGO   \n",
       "3                2  new insider filing muller klaus peter transact...     PH   \n",
       "4                3                  bounce tommorrow right thing gtfo     FB   \n",
       "\n",
       "         Date        date  month  \n",
       "0  2018-09-19  2018-09-19      9  \n",
       "1  2018-10-09  2018-10-09     10  \n",
       "2  2018-07-12  2018-07-12      7  \n",
       "3  2018-07-19  2018-07-19      7  \n",
       "4  2018-08-23  2018-08-23      8  "
      ]
     },
     "execution_count": 6,
     "metadata": {},
     "output_type": "execute_result"
    }
   ],
   "source": [
    "data_twitter.head()\n"
   ]
  },
  {
   "cell_type": "code",
   "execution_count": 7,
   "metadata": {},
   "outputs": [],
   "source": [
    "data_twitter[\"nullvalue\"]=data_twitter['stocktwit_tweet'].isnull()"
   ]
  },
  {
   "cell_type": "code",
   "execution_count": 8,
   "metadata": {},
   "outputs": [],
   "source": [
    "data_twitter=data_twitter[data_twitter['nullvalue']==False]"
   ]
  },
  {
   "cell_type": "code",
   "execution_count": 9,
   "metadata": {},
   "outputs": [
    {
     "data": {
      "text/plain": [
       "(982528, 7)"
      ]
     },
     "execution_count": 9,
     "metadata": {},
     "output_type": "execute_result"
    }
   ],
   "source": [
    "data_twitter.shape"
   ]
  },
  {
   "cell_type": "code",
   "execution_count": 10,
   "metadata": {},
   "outputs": [
    {
     "name": "stdout",
     "output_type": "stream",
     "text": [
      "<class 'pandas.core.frame.DataFrame'>\n",
      "Int64Index: 982528 entries, 0 to 1009957\n",
      "Data columns (total 7 columns):\n",
      "sentiment_score    982528 non-null int64\n",
      "stocktwit_tweet    982528 non-null object\n",
      "ticker             982528 non-null object\n",
      "Date               982528 non-null object\n",
      "date               982528 non-null object\n",
      "month              982528 non-null int64\n",
      "nullvalue          982528 non-null bool\n",
      "dtypes: bool(1), int64(2), object(4)\n",
      "memory usage: 53.4+ MB\n"
     ]
    }
   ],
   "source": [
    "data_twitter.info()"
   ]
  },
  {
   "cell_type": "code",
   "execution_count": 11,
   "metadata": {},
   "outputs": [],
   "source": [
    "data_twitter['sentiment_score']=data_twitter['sentiment_score'].astype('category')"
   ]
  },
  {
   "cell_type": "markdown",
   "metadata": {},
   "source": [
    "# Logistic Regression "
   ]
  },
  {
   "cell_type": "code",
   "execution_count": 25,
   "metadata": {},
   "outputs": [],
   "source": [
    "X_data=data_twitter['stocktwit_tweet']\n",
    "Y_data=data_twitter['sentiment_score']"
   ]
  },
  {
   "cell_type": "code",
   "execution_count": 26,
   "metadata": {},
   "outputs": [],
   "source": [
    "from sklearn.model_selection import train_test_split\n",
    "X_train_t, X_test_t, y_train_t, y_test_t = train_test_split(X_data, Y_data, test_size = 0.3, random_state=42,stratify=Y_data)"
   ]
  },
  {
   "cell_type": "code",
   "execution_count": 27,
   "metadata": {},
   "outputs": [],
   "source": [
    "from sklearn.feature_extraction.text import TfidfVectorizer\n",
    "tfidf = TfidfVectorizer(use_idf=True, ngram_range=(1,3),max_df=0.95)\n",
    "train_v = tfidf.fit_transform(X_train_t)\n",
    "test_v = tfidf.transform(X_test_t)"
   ]
  },
  {
   "cell_type": "code",
   "execution_count": 25,
   "metadata": {},
   "outputs": [],
   "source": [
    "from sklearn.linear_model import LogisticRegression\n",
    "from sklearn.metrics import classification_report,confusion_matrix\n",
    "from sklearn.metrics import accuracy_score\n",
    "from sklearn.metrics import f1_score\n",
    "\n",
    "#function to get accuracy and F1 score\n",
    "\n",
    "def get_result(train,pred):\n",
    "    count_misclassified = (train != pred).sum()\n",
    "    print('Misclassified samples:',format(count_misclassified))\n",
    "    accuracy = accuracy_score(train, pred)\n",
    "    print('Accuracy:',format(accuracy))\n",
    "    f1=f1_score(train, pred, average='macro')\n",
    "    print('F1-Score:',format(f1))\n"
   ]
  },
  {
   "cell_type": "code",
   "execution_count": 29,
   "metadata": {},
   "outputs": [
    {
     "data": {
      "text/plain": [
       "LogisticRegression(C=1.0, class_weight=None, dual=False, fit_intercept=True,\n",
       "                   intercept_scaling=1, l1_ratio=None, max_iter=100,\n",
       "                   multi_class='warn', n_jobs=None, penalty='l2',\n",
       "                   random_state=None, solver='newton-cg', tol=0.0001, verbose=0,\n",
       "                   warm_start=False)"
      ]
     },
     "execution_count": 29,
     "metadata": {},
     "output_type": "execute_result"
    }
   ],
   "source": [
    "logreg = LogisticRegression(solver = 'newton-cg')\n",
    "logreg.fit(train_v,y_train_t)"
   ]
  },
  {
   "cell_type": "code",
   "execution_count": 30,
   "metadata": {},
   "outputs": [],
   "source": [
    "y_pred_train=logreg.predict(train_v)\n",
    "y_pred_test=logreg.predict(test_v)\n"
   ]
  },
  {
   "cell_type": "code",
   "execution_count": 31,
   "metadata": {},
   "outputs": [
    {
     "name": "stdout",
     "output_type": "stream",
     "text": [
      "Misclassified samples: 185472\n",
      "Accuracy: 0.7303280607296927\n",
      "F1-Score: 0.6863597232054182\n"
     ]
    }
   ],
   "source": [
    "#Train result\n",
    "get_result(y_train_t,y_pred_train)"
   ]
  },
  {
   "cell_type": "code",
   "execution_count": 32,
   "metadata": {},
   "outputs": [
    {
     "name": "stdout",
     "output_type": "stream",
     "text": [
      "Misclassified samples: 100652\n",
      "Accuracy: 0.6585278142482502\n",
      "F1-Score: 0.6029619831766354\n"
     ]
    }
   ],
   "source": [
    "#Test result\n",
    "get_result(y_test_t,y_pred_test)"
   ]
  },
  {
   "cell_type": "markdown",
   "metadata": {},
   "source": [
    "# Predicting on Test Data"
   ]
  },
  {
   "cell_type": "code",
   "execution_count": 33,
   "metadata": {},
   "outputs": [],
   "source": [
    "Test_data_twitter = pd.read_csv(\"Test_data_twitter.csv\",index_col=0)"
   ]
  },
  {
   "cell_type": "code",
   "execution_count": 34,
   "metadata": {},
   "outputs": [
    {
     "data": {
      "text/html": [
       "<div>\n",
       "<style scoped>\n",
       "    .dataframe tbody tr th:only-of-type {\n",
       "        vertical-align: middle;\n",
       "    }\n",
       "\n",
       "    .dataframe tbody tr th {\n",
       "        vertical-align: top;\n",
       "    }\n",
       "\n",
       "    .dataframe thead th {\n",
       "        text-align: right;\n",
       "    }\n",
       "</style>\n",
       "<table border=\"1\" class=\"dataframe\">\n",
       "  <thead>\n",
       "    <tr style=\"text-align: right;\">\n",
       "      <th></th>\n",
       "      <th>stocktwit_tweet</th>\n",
       "      <th>ticker</th>\n",
       "      <th>Date</th>\n",
       "      <th>date</th>\n",
       "    </tr>\n",
       "  </thead>\n",
       "  <tbody>\n",
       "    <tr>\n",
       "      <th>0</th>\n",
       "      <td>exited</td>\n",
       "      <td>CELG</td>\n",
       "      <td>2018-10-25</td>\n",
       "      <td>2018-10-25</td>\n",
       "    </tr>\n",
       "    <tr>\n",
       "      <th>1</th>\n",
       "      <td>yall exhaust buyer green candle byeeeeee</td>\n",
       "      <td>AMD</td>\n",
       "      <td>2018-07-13</td>\n",
       "      <td>2018-07-13</td>\n",
       "    </tr>\n",
       "    <tr>\n",
       "      <th>2</th>\n",
       "      <td>day trader day</td>\n",
       "      <td>AMD</td>\n",
       "      <td>2018-09-25</td>\n",
       "      <td>2018-09-25</td>\n",
       "    </tr>\n",
       "    <tr>\n",
       "      <th>4</th>\n",
       "      <td>weak price action far today not afraid short g...</td>\n",
       "      <td>MU</td>\n",
       "      <td>2018-07-31</td>\n",
       "      <td>2018-07-31</td>\n",
       "    </tr>\n",
       "    <tr>\n",
       "      <th>5</th>\n",
       "      <td>continues grow specifically key area like clou...</td>\n",
       "      <td>AMZN</td>\n",
       "      <td>2018-08-04</td>\n",
       "      <td>2018-08-04</td>\n",
       "    </tr>\n",
       "  </tbody>\n",
       "</table>\n",
       "</div>"
      ],
      "text/plain": [
       "                                     stocktwit_tweet ticker        Date  \\\n",
       "0                                             exited   CELG  2018-10-25   \n",
       "1           yall exhaust buyer green candle byeeeeee    AMD  2018-07-13   \n",
       "2                                     day trader day    AMD  2018-09-25   \n",
       "4  weak price action far today not afraid short g...     MU  2018-07-31   \n",
       "5  continues grow specifically key area like clou...   AMZN  2018-08-04   \n",
       "\n",
       "         date  \n",
       "0  2018-10-25  \n",
       "1  2018-07-13  \n",
       "2  2018-09-25  \n",
       "4  2018-07-31  \n",
       "5  2018-08-04  "
      ]
     },
     "execution_count": 34,
     "metadata": {},
     "output_type": "execute_result"
    }
   ],
   "source": [
    "Test_data_twitter.head()"
   ]
  },
  {
   "cell_type": "code",
   "execution_count": 35,
   "metadata": {},
   "outputs": [],
   "source": [
    "X_test_final=Test_data_twitter['stocktwit_tweet']\n"
   ]
  },
  {
   "cell_type": "code",
   "execution_count": 36,
   "metadata": {},
   "outputs": [],
   "source": [
    "X_test_final = tfidf.transform(X_test_final)\n"
   ]
  },
  {
   "cell_type": "code",
   "execution_count": 37,
   "metadata": {},
   "outputs": [],
   "source": [
    "pred_test_factor = logreg.predict(X_test_final)"
   ]
  },
  {
   "cell_type": "code",
   "execution_count": 38,
   "metadata": {},
   "outputs": [
    {
     "data": {
      "text/plain": [
       "253695"
      ]
     },
     "execution_count": 38,
     "metadata": {},
     "output_type": "execute_result"
    }
   ],
   "source": [
    "len(pred_test_factor)"
   ]
  },
  {
   "cell_type": "code",
   "execution_count": 39,
   "metadata": {},
   "outputs": [
    {
     "name": "stdout",
     "output_type": "stream",
     "text": [
      "<class 'pandas.core.frame.DataFrame'>\n",
      "Int64Index: 253695 entries, 0 to 261141\n",
      "Data columns (total 4 columns):\n",
      "stocktwit_tweet    253695 non-null object\n",
      "ticker             253695 non-null object\n",
      "Date               253695 non-null object\n",
      "date               253695 non-null object\n",
      "dtypes: object(4)\n",
      "memory usage: 9.7+ MB\n"
     ]
    }
   ],
   "source": [
    "Test_data_twitter.info()"
   ]
  },
  {
   "cell_type": "code",
   "execution_count": 40,
   "metadata": {},
   "outputs": [],
   "source": [
    "Test_data_twitter['sentiment_score'] = pred_test_factor"
   ]
  },
  {
   "cell_type": "code",
   "execution_count": 41,
   "metadata": {},
   "outputs": [
    {
     "data": {
      "text/html": [
       "<div>\n",
       "<style scoped>\n",
       "    .dataframe tbody tr th:only-of-type {\n",
       "        vertical-align: middle;\n",
       "    }\n",
       "\n",
       "    .dataframe tbody tr th {\n",
       "        vertical-align: top;\n",
       "    }\n",
       "\n",
       "    .dataframe thead th {\n",
       "        text-align: right;\n",
       "    }\n",
       "</style>\n",
       "<table border=\"1\" class=\"dataframe\">\n",
       "  <thead>\n",
       "    <tr style=\"text-align: right;\">\n",
       "      <th></th>\n",
       "      <th>stocktwit_tweet</th>\n",
       "      <th>ticker</th>\n",
       "      <th>Date</th>\n",
       "      <th>date</th>\n",
       "      <th>sentiment_score</th>\n",
       "    </tr>\n",
       "  </thead>\n",
       "  <tbody>\n",
       "    <tr>\n",
       "      <th>0</th>\n",
       "      <td>exited</td>\n",
       "      <td>CELG</td>\n",
       "      <td>2018-10-25</td>\n",
       "      <td>2018-10-25</td>\n",
       "      <td>2</td>\n",
       "    </tr>\n",
       "    <tr>\n",
       "      <th>1</th>\n",
       "      <td>yall exhaust buyer green candle byeeeeee</td>\n",
       "      <td>AMD</td>\n",
       "      <td>2018-07-13</td>\n",
       "      <td>2018-07-13</td>\n",
       "      <td>4</td>\n",
       "    </tr>\n",
       "    <tr>\n",
       "      <th>2</th>\n",
       "      <td>day trader day</td>\n",
       "      <td>AMD</td>\n",
       "      <td>2018-09-25</td>\n",
       "      <td>2018-09-25</td>\n",
       "      <td>2</td>\n",
       "    </tr>\n",
       "    <tr>\n",
       "      <th>4</th>\n",
       "      <td>weak price action far today not afraid short g...</td>\n",
       "      <td>MU</td>\n",
       "      <td>2018-07-31</td>\n",
       "      <td>2018-07-31</td>\n",
       "      <td>1</td>\n",
       "    </tr>\n",
       "    <tr>\n",
       "      <th>5</th>\n",
       "      <td>continues grow specifically key area like clou...</td>\n",
       "      <td>AMZN</td>\n",
       "      <td>2018-08-04</td>\n",
       "      <td>2018-08-04</td>\n",
       "      <td>2</td>\n",
       "    </tr>\n",
       "    <tr>\n",
       "      <th>6</th>\n",
       "      <td>not loading right clueless</td>\n",
       "      <td>CLF</td>\n",
       "      <td>2018-08-17</td>\n",
       "      <td>2018-08-17</td>\n",
       "      <td>2</td>\n",
       "    </tr>\n",
       "    <tr>\n",
       "      <th>7</th>\n",
       "      <td>crap shoot legit no know going stop pretending...</td>\n",
       "      <td>MU</td>\n",
       "      <td>2018-09-21</td>\n",
       "      <td>2018-09-21</td>\n",
       "      <td>2</td>\n",
       "    </tr>\n",
       "    <tr>\n",
       "      <th>8</th>\n",
       "      <td>chart look like setup dip going turtle pace</td>\n",
       "      <td>AMD</td>\n",
       "      <td>2018-09-19</td>\n",
       "      <td>2018-09-19</td>\n",
       "      <td>3</td>\n",
       "    </tr>\n",
       "    <tr>\n",
       "      <th>9</th>\n",
       "      <td>amd like sex life dry rn</td>\n",
       "      <td>AMD</td>\n",
       "      <td>2018-09-21</td>\n",
       "      <td>2018-09-21</td>\n",
       "      <td>2</td>\n",
       "    </tr>\n",
       "    <tr>\n",
       "      <th>10</th>\n",
       "      <td>finally amd got anti gravity technology nm</td>\n",
       "      <td>AMD</td>\n",
       "      <td>2018-08-24</td>\n",
       "      <td>2018-08-24</td>\n",
       "      <td>2</td>\n",
       "    </tr>\n",
       "    <tr>\n",
       "      <th>11</th>\n",
       "      <td>like lot todo halt minute left trading day wan...</td>\n",
       "      <td>SYF</td>\n",
       "      <td>2018-07-26</td>\n",
       "      <td>2018-07-26</td>\n",
       "      <td>2</td>\n",
       "    </tr>\n",
       "    <tr>\n",
       "      <th>12</th>\n",
       "      <td>know mark dumping share buy right insider cons...</td>\n",
       "      <td>FB</td>\n",
       "      <td>2018-09-06</td>\n",
       "      <td>2018-09-06</td>\n",
       "      <td>0</td>\n",
       "    </tr>\n",
       "    <tr>\n",
       "      <th>13</th>\n",
       "      <td>remember trumppalo boycott aapl o bull happy l...</td>\n",
       "      <td>NKE</td>\n",
       "      <td>2018-09-04</td>\n",
       "      <td>2018-09-04</td>\n",
       "      <td>4</td>\n",
       "    </tr>\n",
       "    <tr>\n",
       "      <th>14</th>\n",
       "      <td>positioning changed significantly past month o...</td>\n",
       "      <td>ALXN</td>\n",
       "      <td>2018-08-15</td>\n",
       "      <td>2018-08-15</td>\n",
       "      <td>2</td>\n",
       "    </tr>\n",
       "    <tr>\n",
       "      <th>15</th>\n",
       "      <td>mind siggraph week amd going showcasing sweet ...</td>\n",
       "      <td>AMD</td>\n",
       "      <td>2018-08-10</td>\n",
       "      <td>2018-08-10</td>\n",
       "      <td>2</td>\n",
       "    </tr>\n",
       "    <tr>\n",
       "      <th>16</th>\n",
       "      <td>close opening price recovering early selling p...</td>\n",
       "      <td>AVGO</td>\n",
       "      <td>2018-07-12</td>\n",
       "      <td>2018-07-12</td>\n",
       "      <td>1</td>\n",
       "    </tr>\n",
       "    <tr>\n",
       "      <th>17</th>\n",
       "      <td>money mouth face</td>\n",
       "      <td>AAPL</td>\n",
       "      <td>2018-09-13</td>\n",
       "      <td>2018-09-13</td>\n",
       "      <td>2</td>\n",
       "    </tr>\n",
       "    <tr>\n",
       "      <th>18</th>\n",
       "      <td>short killa continues</td>\n",
       "      <td>NFLX</td>\n",
       "      <td>2018-10-16</td>\n",
       "      <td>2018-10-16</td>\n",
       "      <td>0</td>\n",
       "    </tr>\n",
       "    <tr>\n",
       "      <th>19</th>\n",
       "      <td>exp maxpain highputoi highcalloi</td>\n",
       "      <td>STZ</td>\n",
       "      <td>2018-10-15</td>\n",
       "      <td>2018-10-15</td>\n",
       "      <td>2</td>\n",
       "    </tr>\n",
       "    <tr>\n",
       "      <th>20</th>\n",
       "      <td>reported analyst heard discus industrial weakn...</td>\n",
       "      <td>ADI</td>\n",
       "      <td>2018-09-07</td>\n",
       "      <td>2018-09-07</td>\n",
       "      <td>2</td>\n",
       "    </tr>\n",
       "    <tr>\n",
       "      <th>21</th>\n",
       "      <td>s estimize analyst believe report q revenue re...</td>\n",
       "      <td>UAA</td>\n",
       "      <td>2018-08-01</td>\n",
       "      <td>2018-08-01</td>\n",
       "      <td>2</td>\n",
       "    </tr>\n",
       "    <tr>\n",
       "      <th>22</th>\n",
       "      <td>think tom neutral bearish action touching earl...</td>\n",
       "      <td>GOOGL</td>\n",
       "      <td>2018-08-28</td>\n",
       "      <td>2018-08-28</td>\n",
       "      <td>3</td>\n",
       "    </tr>\n",
       "    <tr>\n",
       "      <th>23</th>\n",
       "      <td>wish amazon billion dept defense contract gues...</td>\n",
       "      <td>AMZN</td>\n",
       "      <td>2018-10-24</td>\n",
       "      <td>2018-10-24</td>\n",
       "      <td>2</td>\n",
       "    </tr>\n",
       "    <tr>\n",
       "      <th>24</th>\n",
       "      <td>oct atm implied volatility straddle implies ea...</td>\n",
       "      <td>F</td>\n",
       "      <td>2018-09-20</td>\n",
       "      <td>2018-09-20</td>\n",
       "      <td>2</td>\n",
       "    </tr>\n",
       "    <tr>\n",
       "      <th>25</th>\n",
       "      <td>use help guidance</td>\n",
       "      <td>MU</td>\n",
       "      <td>2018-08-15</td>\n",
       "      <td>2018-08-15</td>\n",
       "      <td>2</td>\n",
       "    </tr>\n",
       "    <tr>\n",
       "      <th>26</th>\n",
       "      <td>gilead science announces ceo john f milligan step</td>\n",
       "      <td>GILD</td>\n",
       "      <td>2018-07-25</td>\n",
       "      <td>2018-07-25</td>\n",
       "      <td>2</td>\n",
       "    </tr>\n",
       "    <tr>\n",
       "      <th>27</th>\n",
       "      <td>k buyer ask minute earlier</td>\n",
       "      <td>FAST</td>\n",
       "      <td>2018-07-11</td>\n",
       "      <td>2018-07-11</td>\n",
       "      <td>4</td>\n",
       "    </tr>\n",
       "    <tr>\n",
       "      <th>28</th>\n",
       "      <td>wait buy dip buy man shrugging light skin tone...</td>\n",
       "      <td>NFLX</td>\n",
       "      <td>2018-09-28</td>\n",
       "      <td>2018-09-28</td>\n",
       "      <td>4</td>\n",
       "    </tr>\n",
       "    <tr>\n",
       "      <th>29</th>\n",
       "      <td>hit like eat shit</td>\n",
       "      <td>AMD</td>\n",
       "      <td>2018-09-07</td>\n",
       "      <td>2018-09-07</td>\n",
       "      <td>2</td>\n",
       "    </tr>\n",
       "    <tr>\n",
       "      <th>30</th>\n",
       "      <td>shiek ha shefeels partner mesabi metalics minn...</td>\n",
       "      <td>CLF</td>\n",
       "      <td>2018-09-14</td>\n",
       "      <td>2018-09-14</td>\n",
       "      <td>2</td>\n",
       "    </tr>\n",
       "    <tr>\n",
       "      <th>...</th>\n",
       "      <td>...</td>\n",
       "      <td>...</td>\n",
       "      <td>...</td>\n",
       "      <td>...</td>\n",
       "      <td>...</td>\n",
       "    </tr>\n",
       "    <tr>\n",
       "      <th>261112</th>\n",
       "      <td>insider sell moro guaranteed</td>\n",
       "      <td>FB</td>\n",
       "      <td>2018-07-31</td>\n",
       "      <td>2018-07-31</td>\n",
       "      <td>1</td>\n",
       "    </tr>\n",
       "    <tr>\n",
       "      <th>261113</th>\n",
       "      <td>charting tricky bear gap price bull bring thin...</td>\n",
       "      <td>MU</td>\n",
       "      <td>2018-09-23</td>\n",
       "      <td>2018-09-23</td>\n",
       "      <td>1</td>\n",
       "    </tr>\n",
       "    <tr>\n",
       "      <th>261114</th>\n",
       "      <td>doom gloom lol</td>\n",
       "      <td>MSFT</td>\n",
       "      <td>2018-10-24</td>\n",
       "      <td>2018-10-24</td>\n",
       "      <td>2</td>\n",
       "    </tr>\n",
       "    <tr>\n",
       "      <th>261115</th>\n",
       "      <td>f going</td>\n",
       "      <td>FB</td>\n",
       "      <td>2018-10-30</td>\n",
       "      <td>2018-10-30</td>\n",
       "      <td>0</td>\n",
       "    </tr>\n",
       "    <tr>\n",
       "      <th>261116</th>\n",
       "      <td>reminder suck job political controversial work...</td>\n",
       "      <td>NKE</td>\n",
       "      <td>2018-09-05</td>\n",
       "      <td>2018-09-05</td>\n",
       "      <td>2</td>\n",
       "    </tr>\n",
       "    <tr>\n",
       "      <th>261117</th>\n",
       "      <td>coming retail buy high sell low</td>\n",
       "      <td>FB</td>\n",
       "      <td>2018-07-30</td>\n",
       "      <td>2018-07-30</td>\n",
       "      <td>2</td>\n",
       "    </tr>\n",
       "    <tr>\n",
       "      <th>261118</th>\n",
       "      <td>industry average profit margin outperforms ind...</td>\n",
       "      <td>GIS</td>\n",
       "      <td>2018-08-04</td>\n",
       "      <td>2018-08-04</td>\n",
       "      <td>4</td>\n",
       "    </tr>\n",
       "    <tr>\n",
       "      <th>261119</th>\n",
       "      <td>director harris parker cashed option tran code...</td>\n",
       "      <td>CRM</td>\n",
       "      <td>2018-09-19</td>\n",
       "      <td>2018-09-19</td>\n",
       "      <td>2</td>\n",
       "    </tr>\n",
       "    <tr>\n",
       "      <th>261120</th>\n",
       "      <td>option volume x normal friday contract volume ...</td>\n",
       "      <td>MPC</td>\n",
       "      <td>2018-09-30</td>\n",
       "      <td>2018-09-30</td>\n",
       "      <td>2</td>\n",
       "    </tr>\n",
       "    <tr>\n",
       "      <th>261121</th>\n",
       "      <td>stop fucking</td>\n",
       "      <td>AMD</td>\n",
       "      <td>2018-08-13</td>\n",
       "      <td>2018-08-13</td>\n",
       "      <td>2</td>\n",
       "    </tr>\n",
       "    <tr>\n",
       "      <th>261122</th>\n",
       "      <td>retail stock technical signal buy mfi prob exp...</td>\n",
       "      <td>AAP</td>\n",
       "      <td>2018-10-30</td>\n",
       "      <td>2018-10-30</td>\n",
       "      <td>4</td>\n",
       "    </tr>\n",
       "    <tr>\n",
       "      <th>261123</th>\n",
       "      <td>najarian trying pump saw straddle call</td>\n",
       "      <td>MU</td>\n",
       "      <td>2018-10-16</td>\n",
       "      <td>2018-10-16</td>\n",
       "      <td>2</td>\n",
       "    </tr>\n",
       "    <tr>\n",
       "      <th>261124</th>\n",
       "      <td>damn</td>\n",
       "      <td>AMD</td>\n",
       "      <td>2018-09-11</td>\n",
       "      <td>2018-09-11</td>\n",
       "      <td>2</td>\n",
       "    </tr>\n",
       "    <tr>\n",
       "      <th>261125</th>\n",
       "      <td>going bump w no fomo rh buyer know facebook dead</td>\n",
       "      <td>FB</td>\n",
       "      <td>2018-08-23</td>\n",
       "      <td>2018-08-23</td>\n",
       "      <td>2</td>\n",
       "    </tr>\n",
       "    <tr>\n",
       "      <th>261126</th>\n",
       "      <td>want close glad bought dip week great entry point</td>\n",
       "      <td>CAT</td>\n",
       "      <td>2018-10-03</td>\n",
       "      <td>2018-10-03</td>\n",
       "      <td>3</td>\n",
       "    </tr>\n",
       "    <tr>\n",
       "      <th>261127</th>\n",
       "      <td>po</td>\n",
       "      <td>NFLX</td>\n",
       "      <td>2018-10-29</td>\n",
       "      <td>2018-10-29</td>\n",
       "      <td>0</td>\n",
       "    </tr>\n",
       "    <tr>\n",
       "      <th>261128</th>\n",
       "      <td>listen q vertex pharmaceutical incorporated ea...</td>\n",
       "      <td>VRTX</td>\n",
       "      <td>2018-10-24</td>\n",
       "      <td>2018-10-24</td>\n",
       "      <td>2</td>\n",
       "    </tr>\n",
       "    <tr>\n",
       "      <th>261129</th>\n",
       "      <td>panic minute not good</td>\n",
       "      <td>AAPL</td>\n",
       "      <td>2018-08-10</td>\n",
       "      <td>2018-08-10</td>\n",
       "      <td>2</td>\n",
       "    </tr>\n",
       "    <tr>\n",
       "      <th>261130</th>\n",
       "      <td>lol market ripping stock permabulls celebratin...</td>\n",
       "      <td>MU</td>\n",
       "      <td>2018-07-06</td>\n",
       "      <td>2018-07-06</td>\n",
       "      <td>4</td>\n",
       "    </tr>\n",
       "    <tr>\n",
       "      <th>261131</th>\n",
       "      <td>nasdaq dropping somebody bring reality</td>\n",
       "      <td>NFLX</td>\n",
       "      <td>2018-07-17</td>\n",
       "      <td>2018-07-17</td>\n",
       "      <td>1</td>\n",
       "    </tr>\n",
       "    <tr>\n",
       "      <th>261132</th>\n",
       "      <td>green doji candle row verified support good ti...</td>\n",
       "      <td>NKE</td>\n",
       "      <td>2018-10-08</td>\n",
       "      <td>2018-10-08</td>\n",
       "      <td>4</td>\n",
       "    </tr>\n",
       "    <tr>\n",
       "      <th>261133</th>\n",
       "      <td>today s insight</td>\n",
       "      <td>MMM</td>\n",
       "      <td>2018-07-29</td>\n",
       "      <td>2018-07-29</td>\n",
       "      <td>2</td>\n",
       "    </tr>\n",
       "    <tr>\n",
       "      <th>261134</th>\n",
       "      <td>dead cat bounce incoming</td>\n",
       "      <td>ATVI</td>\n",
       "      <td>2018-08-06</td>\n",
       "      <td>2018-08-06</td>\n",
       "      <td>2</td>\n",
       "    </tr>\n",
       "    <tr>\n",
       "      <th>261135</th>\n",
       "      <td>drinking average modelos corona let need</td>\n",
       "      <td>STZ</td>\n",
       "      <td>2018-08-08</td>\n",
       "      <td>2018-08-08</td>\n",
       "      <td>3</td>\n",
       "    </tr>\n",
       "    <tr>\n",
       "      <th>261136</th>\n",
       "      <td>m ago avon product appoints new vice president...</td>\n",
       "      <td>AVP</td>\n",
       "      <td>2018-10-15</td>\n",
       "      <td>2018-10-15</td>\n",
       "      <td>2</td>\n",
       "    </tr>\n",
       "    <tr>\n",
       "      <th>261137</th>\n",
       "      <td>recent bad pr easy pick load thanks idiot empl...</td>\n",
       "      <td>CVS</td>\n",
       "      <td>2018-07-20</td>\n",
       "      <td>2018-07-20</td>\n",
       "      <td>2</td>\n",
       "    </tr>\n",
       "    <tr>\n",
       "      <th>261138</th>\n",
       "      <td>s estimize analyst believe report q eps report...</td>\n",
       "      <td>S</td>\n",
       "      <td>2018-10-24</td>\n",
       "      <td>2018-10-24</td>\n",
       "      <td>2</td>\n",
       "    </tr>\n",
       "    <tr>\n",
       "      <th>261139</th>\n",
       "      <td>high s not later year way margin callzzz shorties</td>\n",
       "      <td>AMD</td>\n",
       "      <td>2018-07-25</td>\n",
       "      <td>2018-07-25</td>\n",
       "      <td>2</td>\n",
       "    </tr>\n",
       "    <tr>\n",
       "      <th>261140</th>\n",
       "      <td>file form q</td>\n",
       "      <td>TSN</td>\n",
       "      <td>2018-08-06</td>\n",
       "      <td>2018-08-06</td>\n",
       "      <td>2</td>\n",
       "    </tr>\n",
       "    <tr>\n",
       "      <th>261141</th>\n",
       "      <td>look like solidly supporting gain looking upsi...</td>\n",
       "      <td>AAPL</td>\n",
       "      <td>2018-09-27</td>\n",
       "      <td>2018-09-27</td>\n",
       "      <td>3</td>\n",
       "    </tr>\n",
       "  </tbody>\n",
       "</table>\n",
       "<p>253695 rows × 5 columns</p>\n",
       "</div>"
      ],
      "text/plain": [
       "                                          stocktwit_tweet ticker        Date  \\\n",
       "0                                                  exited   CELG  2018-10-25   \n",
       "1                yall exhaust buyer green candle byeeeeee    AMD  2018-07-13   \n",
       "2                                          day trader day    AMD  2018-09-25   \n",
       "4       weak price action far today not afraid short g...     MU  2018-07-31   \n",
       "5       continues grow specifically key area like clou...   AMZN  2018-08-04   \n",
       "6                              not loading right clueless    CLF  2018-08-17   \n",
       "7       crap shoot legit no know going stop pretending...     MU  2018-09-21   \n",
       "8             chart look like setup dip going turtle pace    AMD  2018-09-19   \n",
       "9                                amd like sex life dry rn    AMD  2018-09-21   \n",
       "10             finally amd got anti gravity technology nm    AMD  2018-08-24   \n",
       "11      like lot todo halt minute left trading day wan...    SYF  2018-07-26   \n",
       "12      know mark dumping share buy right insider cons...     FB  2018-09-06   \n",
       "13      remember trumppalo boycott aapl o bull happy l...    NKE  2018-09-04   \n",
       "14      positioning changed significantly past month o...   ALXN  2018-08-15   \n",
       "15      mind siggraph week amd going showcasing sweet ...    AMD  2018-08-10   \n",
       "16      close opening price recovering early selling p...   AVGO  2018-07-12   \n",
       "17                                       money mouth face   AAPL  2018-09-13   \n",
       "18                                  short killa continues   NFLX  2018-10-16   \n",
       "19                       exp maxpain highputoi highcalloi    STZ  2018-10-15   \n",
       "20      reported analyst heard discus industrial weakn...    ADI  2018-09-07   \n",
       "21      s estimize analyst believe report q revenue re...    UAA  2018-08-01   \n",
       "22      think tom neutral bearish action touching earl...  GOOGL  2018-08-28   \n",
       "23      wish amazon billion dept defense contract gues...   AMZN  2018-10-24   \n",
       "24      oct atm implied volatility straddle implies ea...      F  2018-09-20   \n",
       "25                                      use help guidance     MU  2018-08-15   \n",
       "26      gilead science announces ceo john f milligan step   GILD  2018-07-25   \n",
       "27                             k buyer ask minute earlier   FAST  2018-07-11   \n",
       "28      wait buy dip buy man shrugging light skin tone...   NFLX  2018-09-28   \n",
       "29                                      hit like eat shit    AMD  2018-09-07   \n",
       "30      shiek ha shefeels partner mesabi metalics minn...    CLF  2018-09-14   \n",
       "...                                                   ...    ...         ...   \n",
       "261112                       insider sell moro guaranteed     FB  2018-07-31   \n",
       "261113  charting tricky bear gap price bull bring thin...     MU  2018-09-23   \n",
       "261114                                     doom gloom lol   MSFT  2018-10-24   \n",
       "261115                                            f going     FB  2018-10-30   \n",
       "261116  reminder suck job political controversial work...    NKE  2018-09-05   \n",
       "261117                    coming retail buy high sell low     FB  2018-07-30   \n",
       "261118  industry average profit margin outperforms ind...    GIS  2018-08-04   \n",
       "261119  director harris parker cashed option tran code...    CRM  2018-09-19   \n",
       "261120  option volume x normal friday contract volume ...    MPC  2018-09-30   \n",
       "261121                                       stop fucking    AMD  2018-08-13   \n",
       "261122  retail stock technical signal buy mfi prob exp...    AAP  2018-10-30   \n",
       "261123             najarian trying pump saw straddle call     MU  2018-10-16   \n",
       "261124                                               damn    AMD  2018-09-11   \n",
       "261125   going bump w no fomo rh buyer know facebook dead     FB  2018-08-23   \n",
       "261126  want close glad bought dip week great entry point    CAT  2018-10-03   \n",
       "261127                                                 po   NFLX  2018-10-29   \n",
       "261128  listen q vertex pharmaceutical incorporated ea...   VRTX  2018-10-24   \n",
       "261129                              panic minute not good   AAPL  2018-08-10   \n",
       "261130  lol market ripping stock permabulls celebratin...     MU  2018-07-06   \n",
       "261131             nasdaq dropping somebody bring reality   NFLX  2018-07-17   \n",
       "261132  green doji candle row verified support good ti...    NKE  2018-10-08   \n",
       "261133                                    today s insight    MMM  2018-07-29   \n",
       "261134                           dead cat bounce incoming   ATVI  2018-08-06   \n",
       "261135           drinking average modelos corona let need    STZ  2018-08-08   \n",
       "261136  m ago avon product appoints new vice president...    AVP  2018-10-15   \n",
       "261137  recent bad pr easy pick load thanks idiot empl...    CVS  2018-07-20   \n",
       "261138  s estimize analyst believe report q eps report...      S  2018-10-24   \n",
       "261139  high s not later year way margin callzzz shorties    AMD  2018-07-25   \n",
       "261140                                        file form q    TSN  2018-08-06   \n",
       "261141  look like solidly supporting gain looking upsi...   AAPL  2018-09-27   \n",
       "\n",
       "              date  sentiment_score  \n",
       "0       2018-10-25                2  \n",
       "1       2018-07-13                4  \n",
       "2       2018-09-25                2  \n",
       "4       2018-07-31                1  \n",
       "5       2018-08-04                2  \n",
       "6       2018-08-17                2  \n",
       "7       2018-09-21                2  \n",
       "8       2018-09-19                3  \n",
       "9       2018-09-21                2  \n",
       "10      2018-08-24                2  \n",
       "11      2018-07-26                2  \n",
       "12      2018-09-06                0  \n",
       "13      2018-09-04                4  \n",
       "14      2018-08-15                2  \n",
       "15      2018-08-10                2  \n",
       "16      2018-07-12                1  \n",
       "17      2018-09-13                2  \n",
       "18      2018-10-16                0  \n",
       "19      2018-10-15                2  \n",
       "20      2018-09-07                2  \n",
       "21      2018-08-01                2  \n",
       "22      2018-08-28                3  \n",
       "23      2018-10-24                2  \n",
       "24      2018-09-20                2  \n",
       "25      2018-08-15                2  \n",
       "26      2018-07-25                2  \n",
       "27      2018-07-11                4  \n",
       "28      2018-09-28                4  \n",
       "29      2018-09-07                2  \n",
       "30      2018-09-14                2  \n",
       "...            ...              ...  \n",
       "261112  2018-07-31                1  \n",
       "261113  2018-09-23                1  \n",
       "261114  2018-10-24                2  \n",
       "261115  2018-10-30                0  \n",
       "261116  2018-09-05                2  \n",
       "261117  2018-07-30                2  \n",
       "261118  2018-08-04                4  \n",
       "261119  2018-09-19                2  \n",
       "261120  2018-09-30                2  \n",
       "261121  2018-08-13                2  \n",
       "261122  2018-10-30                4  \n",
       "261123  2018-10-16                2  \n",
       "261124  2018-09-11                2  \n",
       "261125  2018-08-23                2  \n",
       "261126  2018-10-03                3  \n",
       "261127  2018-10-29                0  \n",
       "261128  2018-10-24                2  \n",
       "261129  2018-08-10                2  \n",
       "261130  2018-07-06                4  \n",
       "261131  2018-07-17                1  \n",
       "261132  2018-10-08                4  \n",
       "261133  2018-07-29                2  \n",
       "261134  2018-08-06                2  \n",
       "261135  2018-08-08                3  \n",
       "261136  2018-10-15                2  \n",
       "261137  2018-07-20                2  \n",
       "261138  2018-10-24                2  \n",
       "261139  2018-07-25                2  \n",
       "261140  2018-08-06                2  \n",
       "261141  2018-09-27                3  \n",
       "\n",
       "[253695 rows x 5 columns]"
      ]
     },
     "execution_count": 41,
     "metadata": {},
     "output_type": "execute_result"
    }
   ],
   "source": [
    "Test_data_twitter"
   ]
  },
  {
   "cell_type": "markdown",
   "metadata": {},
   "source": [
    "# Factor data"
   ]
  },
  {
   "cell_type": "code",
   "execution_count": 12,
   "metadata": {},
   "outputs": [],
   "source": [
    "#data_twitter['date']=data_twitter['Date']\n",
    "#data_twitter.drop('Date',axis=1,inplace=True)\n",
    "data_twitter_main['sentiment_score']=data_twitter_main['sentiment_score'].astype('category')\n",
    "data_twitter_main['ticker']=data_twitter_main['ticker'].str.upper()\n",
    "data_twitter_main['date']=pd.to_datetime(data_twitter_main['date'].astype(str))\n",
    "data_factors['date']=pd.to_datetime(data_factors['date'].astype(str))"
   ]
  },
  {
   "cell_type": "code",
   "execution_count": 13,
   "metadata": {},
   "outputs": [
    {
     "name": "stdout",
     "output_type": "stream",
     "text": [
      "<class 'pandas.core.frame.DataFrame'>\n",
      "Int64Index: 27006 entries, 0 to 27005\n",
      "Data columns (total 11 columns):\n",
      "date      27006 non-null datetime64[ns]\n",
      "ticker    27006 non-null object\n",
      "SF1       27006 non-null float64\n",
      "SF2       27006 non-null float64\n",
      "SF3       27006 non-null float64\n",
      "SF4       27006 non-null float64\n",
      "SF5       27006 non-null float64\n",
      "SF6       27006 non-null float64\n",
      "SF7       27006 non-null float64\n",
      "alpha     27006 non-null int64\n",
      "month     27006 non-null int64\n",
      "dtypes: datetime64[ns](1), float64(7), int64(2), object(1)\n",
      "memory usage: 2.5+ MB\n"
     ]
    }
   ],
   "source": [
    "data_factors.info()"
   ]
  },
  {
   "cell_type": "markdown",
   "metadata": {},
   "source": [
    "### Grouping the Twitter data and merging with factor data"
   ]
  },
  {
   "cell_type": "code",
   "execution_count": 14,
   "metadata": {},
   "outputs": [],
   "source": [
    "group_data = data_twitter_main.groupby(by=['date','ticker'])['sentiment_score'].apply(lambda x:x.value_counts().index[0]).to_frame()\n"
   ]
  },
  {
   "cell_type": "code",
   "execution_count": 15,
   "metadata": {},
   "outputs": [],
   "source": [
    "merged_data = pd.merge(data_factors,group_data,  how='left', left_on=['date','ticker'], right_on = ['date','ticker'])\n",
    "merged_data.fillna(2,inplace=True)\n",
    "merged_data['sentiment_score']=merged_data['sentiment_score'].astype('category')\n",
    "merged_data['alpha']=merged_data['alpha'].astype('category')"
   ]
  },
  {
   "cell_type": "code",
   "execution_count": 16,
   "metadata": {},
   "outputs": [],
   "source": [
    "X=merged_data.drop(['date','alpha','ticker','month'],axis=1)\n",
    "y=merged_data['alpha']"
   ]
  },
  {
   "cell_type": "code",
   "execution_count": 17,
   "metadata": {},
   "outputs": [],
   "source": [
    "cat_attr = list(X.select_dtypes(\"category\").columns)\n",
    "num_attr = list(X.columns.difference(cat_attr))"
   ]
  },
  {
   "cell_type": "code",
   "execution_count": 35,
   "metadata": {},
   "outputs": [
    {
     "data": {
      "text/plain": [
       "['SF1', 'SF2', 'SF3', 'SF4', 'SF5', 'SF6', 'SF7']"
      ]
     },
     "execution_count": 35,
     "metadata": {},
     "output_type": "execute_result"
    }
   ],
   "source": [
    "num_attr"
   ]
  },
  {
   "cell_type": "code",
   "execution_count": 36,
   "metadata": {},
   "outputs": [],
   "source": [
    "from sklearn.linear_model import LogisticRegression\n",
    "from sklearn.neighbors import KNeighborsClassifier\n",
    "from sklearn.tree import DecisionTreeClassifier"
   ]
  },
  {
   "cell_type": "code",
   "execution_count": 37,
   "metadata": {},
   "outputs": [],
   "source": [
    "from sklearn.model_selection import train_test_split\n",
    "X_train_m, X_test_m, y_train_m, y_test_m = train_test_split(X, y, test_size = 0.3, random_state=44,stratify=y)"
   ]
  },
  {
   "cell_type": "markdown",
   "metadata": {},
   "source": [
    "### Model Decision Tree"
   ]
  },
  {
   "cell_type": "code",
   "execution_count": 38,
   "metadata": {},
   "outputs": [
    {
     "name": "stdout",
     "output_type": "stream",
     "text": [
      "Misclassified samples: 0\n",
      "Accuracy: 1.0\n",
      "F1-Score: 1.0\n"
     ]
    }
   ],
   "source": [
    "dtc = DecisionTreeClassifier()\n",
    "\n",
    "dtc.fit(X_train_m,y_train_m)\n",
    "\n",
    "y_pred_train_dtc = dtc.predict(X_train_m)\n",
    "y_pred_test_dtc = dtc.predict(X_test_m)\n",
    "\n",
    "get_result(y_train_m,y_pred_train_dtc)\n"
   ]
  },
  {
   "cell_type": "code",
   "execution_count": 39,
   "metadata": {},
   "outputs": [
    {
     "name": "stdout",
     "output_type": "stream",
     "text": [
      "Misclassified samples: 3116\n",
      "Accuracy: 0.6154036040483831\n",
      "F1-Score: 0.5693894361347167\n"
     ]
    }
   ],
   "source": [
    "get_result(y_test_m,y_pred_test_dtc)"
   ]
  },
  {
   "cell_type": "markdown",
   "metadata": {},
   "source": [
    "### Model Logistic regression"
   ]
  },
  {
   "cell_type": "code",
   "execution_count": 40,
   "metadata": {},
   "outputs": [
    {
     "name": "stdout",
     "output_type": "stream",
     "text": [
      "Misclassified samples: 10481\n",
      "Accuracy: 0.4455670757511638\n",
      "F1-Score: 0.2661711682125698\n"
     ]
    }
   ],
   "source": [
    "lrc = LogisticRegression()\n",
    "\n",
    "lrc.fit(X_train_m,y_train_m)\n",
    "\n",
    "y_pred_train_lrc = lrc.predict(X_train_m)\n",
    "y_pred_test_lrc = lrc.predict(X_test_m)\n",
    "get_result(y_train_m,y_pred_train_lrc)\n"
   ]
  },
  {
   "cell_type": "code",
   "execution_count": 41,
   "metadata": {},
   "outputs": [
    {
     "name": "stdout",
     "output_type": "stream",
     "text": [
      "Misclassified samples: 4510\n",
      "Accuracy: 0.44334732164897556\n",
      "F1-Score: 0.26251924412680855\n"
     ]
    }
   ],
   "source": [
    "get_result(y_test_m,y_pred_test_lrc)\n"
   ]
  },
  {
   "cell_type": "markdown",
   "metadata": {},
   "source": [
    "### Model K- Nearest Neighbors "
   ]
  },
  {
   "cell_type": "code",
   "execution_count": 42,
   "metadata": {},
   "outputs": [
    {
     "name": "stdout",
     "output_type": "stream",
     "text": [
      "Misclassified samples: 5165\n",
      "Accuracy: 0.7267774016081253\n",
      "F1-Score: 0.6852825227039792\n"
     ]
    }
   ],
   "source": [
    "knn = KNeighborsClassifier(n_neighbors=4)  \n",
    "\n",
    "knn.fit(X_train_m, y_train_m)\n",
    "\n",
    "y_pred_train_knn = knn.predict(X_train_m)\n",
    "y_pred_test_knn = knn.predict(X_test_m)\n",
    "get_result(y_train_m,y_pred_train_knn)\n"
   ]
  },
  {
   "cell_type": "code",
   "execution_count": 43,
   "metadata": {},
   "outputs": [
    {
     "name": "stdout",
     "output_type": "stream",
     "text": [
      "Misclassified samples: 3278\n",
      "Accuracy: 0.5954085411009628\n",
      "F1-Score: 0.5292235322610628\n"
     ]
    }
   ],
   "source": [
    "get_result(y_test_m,y_pred_test_knn)"
   ]
  },
  {
   "cell_type": "markdown",
   "metadata": {},
   "source": [
    "### Stacking all model  "
   ]
  },
  {
   "cell_type": "code",
   "execution_count": 44,
   "metadata": {},
   "outputs": [],
   "source": [
    "stack_train = pd.DataFrame([y_pred_train_dtc,y_pred_train_lrc,y_pred_train_knn])\n",
    "stack_test = pd.DataFrame([y_pred_test_dtc,y_pred_test_lrc,y_pred_test_knn])\n",
    "stack_train = stack_train.T\n",
    "stack_test = stack_test.T\n",
    "stack_train.columns = ['y_pred_train_dtc','y_pred_train_lrc','y_pred_train_knn']\n",
    "stack_test.columns = ['y_pred_test_dtc','y_pred_test_lrc','y_pred_test_knn']\n",
    "dtc = DecisionTreeClassifier()\n",
    "\n",
    "dtc.fit(stack_train,y_train_m)\n",
    "\n",
    "stacked_pred_train = dtc.predict(stack_train)\n",
    "stacked_pred_test = dtc.predict(stack_test)"
   ]
  },
  {
   "cell_type": "code",
   "execution_count": 45,
   "metadata": {},
   "outputs": [
    {
     "name": "stdout",
     "output_type": "stream",
     "text": [
      "Misclassified samples: 0\n",
      "Accuracy: 1.0\n",
      "F1-Score: 1.0\n"
     ]
    }
   ],
   "source": [
    "get_result(y_train_m,stacked_pred_train)\n"
   ]
  },
  {
   "cell_type": "code",
   "execution_count": 46,
   "metadata": {},
   "outputs": [
    {
     "name": "stdout",
     "output_type": "stream",
     "text": [
      "Misclassified samples: 3116\n",
      "Accuracy: 0.6154036040483831\n",
      "F1-Score: 0.5693894361347167\n"
     ]
    }
   ],
   "source": [
    "get_result(y_test_m,stacked_pred_test)"
   ]
  },
  {
   "cell_type": "markdown",
   "metadata": {},
   "source": [
    "### Random Forest "
   ]
  },
  {
   "cell_type": "code",
   "execution_count": 48,
   "metadata": {},
   "outputs": [],
   "source": [
    "from sklearn import preprocessing \n",
    "from sklearn.impute import SimpleImputer\n",
    "from sklearn.preprocessing import MinMaxScaler\n",
    "from sklearn.compose import ColumnTransformer\n",
    "from sklearn.pipeline import Pipeline\n",
    "from sklearn.preprocessing import StandardScaler\n",
    "from sklearn.preprocessing import OneHotEncoder\n",
    "from sklearn.ensemble import RandomForestClassifier\n",
    "\n",
    "train_num_attr = Pipeline(steps=[('scaler', MinMaxScaler(feature_range=(0, 1)))])\n",
    "\n",
    "train_cat_attr = Pipeline(steps=[('onehot', OneHotEncoder(handle_unknown='ignore'))])\n",
    "\n",
    "preprocessor = ColumnTransformer(\n",
    "    transformers=[\n",
    "        ('num', train_num_attr, num_attr),\n",
    "        ('cat', train_cat_attr, cat_attr)])"
   ]
  },
  {
   "cell_type": "code",
   "execution_count": 49,
   "metadata": {},
   "outputs": [],
   "source": [
    "random_for = Pipeline(steps=[('preprocessor',preprocessor),\n",
    "                            ('RandomClassifer',RandomForestClassifier())])"
   ]
  },
  {
   "cell_type": "code",
   "execution_count": 50,
   "metadata": {},
   "outputs": [
    {
     "data": {
      "text/plain": [
       "Pipeline(memory=None,\n",
       "         steps=[('preprocessor',\n",
       "                 ColumnTransformer(n_jobs=None, remainder='drop',\n",
       "                                   sparse_threshold=0.3,\n",
       "                                   transformer_weights=None,\n",
       "                                   transformers=[('num',\n",
       "                                                  Pipeline(memory=None,\n",
       "                                                           steps=[('scaler',\n",
       "                                                                   MinMaxScaler(copy=True,\n",
       "                                                                                feature_range=(0,\n",
       "                                                                                               1)))],\n",
       "                                                           verbose=False),\n",
       "                                                  ['SF1', 'SF2', 'SF3', 'SF4',\n",
       "                                                   'SF5', 'SF6', 'SF7']),\n",
       "                                                 ('cat',\n",
       "                                                  Pipeline(memory=None,\n",
       "                                                           steps=[('onehot',\n",
       "                                                                   One...\n",
       "                 RandomForestClassifier(bootstrap=True, class_weight=None,\n",
       "                                        criterion='gini', max_depth=None,\n",
       "                                        max_features='auto',\n",
       "                                        max_leaf_nodes=None,\n",
       "                                        min_impurity_decrease=0.0,\n",
       "                                        min_impurity_split=None,\n",
       "                                        min_samples_leaf=1, min_samples_split=2,\n",
       "                                        min_weight_fraction_leaf=0.0,\n",
       "                                        n_estimators=10, n_jobs=None,\n",
       "                                        oob_score=False, random_state=None,\n",
       "                                        verbose=0, warm_start=False))],\n",
       "         verbose=False)"
      ]
     },
     "execution_count": 50,
     "metadata": {},
     "output_type": "execute_result"
    }
   ],
   "source": [
    "random_for.fit(X_train_m,y_train_m)"
   ]
  },
  {
   "cell_type": "code",
   "execution_count": 51,
   "metadata": {},
   "outputs": [],
   "source": [
    "y_train_sent_pred = random_for.predict(X_train_m)\n",
    "y_test_sent_pred =random_for.predict(X_test_m)"
   ]
  },
  {
   "cell_type": "code",
   "execution_count": 52,
   "metadata": {},
   "outputs": [
    {
     "data": {
      "text/plain": [
       "(18904, 8)"
      ]
     },
     "execution_count": 52,
     "metadata": {},
     "output_type": "execute_result"
    }
   ],
   "source": [
    "X_train_m.shape"
   ]
  },
  {
   "cell_type": "code",
   "execution_count": 53,
   "metadata": {},
   "outputs": [
    {
     "name": "stdout",
     "output_type": "stream",
     "text": [
      "Misclassified samples: 281\n",
      "Accuracy: 0.9851354210749048\n",
      "F1-Score: 0.9840146741368201\n"
     ]
    }
   ],
   "source": [
    "# how did our model perform?\n",
    "get_result(y_train_m,y_train_sent_pred)"
   ]
  },
  {
   "cell_type": "code",
   "execution_count": 54,
   "metadata": {},
   "outputs": [
    {
     "name": "stdout",
     "output_type": "stream",
     "text": [
      "Misclassified samples: 2640\n",
      "Accuracy: 0.6741545297457417\n",
      "F1-Score: 0.6190494832947526\n"
     ]
    }
   ],
   "source": [
    "get_result(y_test_m,y_test_sent_pred)"
   ]
  },
  {
   "cell_type": "markdown",
   "metadata": {},
   "source": [
    "### Random Forest with hyper parameters"
   ]
  },
  {
   "cell_type": "code",
   "execution_count": 97,
   "metadata": {},
   "outputs": [],
   "source": [
    "from sklearn.model_selection import RandomizedSearchCV\n",
    "from sklearn.ensemble import RandomForestClassifier\n",
    "from sklearn.model_selection import GridSearchCV, cross_val_score, StratifiedKFold \n",
    "kfold = StratifiedKFold(n_splits=5, shuffle=True, random_state=143)\n",
    "\n",
    "# Create the parameter grid based on the results of grid search\n",
    "param_grid = {\n",
    "    'RandomClassifer__bootstrap': [True],\n",
    "    'RandomClassifer__max_depth': [3,7,9,10,12],\n",
    "    'RandomClassifer__max_features': ['sqrt','auto'],\n",
    "    'RandomClassifer__min_samples_leaf': [3],\n",
    "    'RandomClassifer__min_samples_split': [8, 10, 12, 14],\n",
    "    'RandomClassifer__n_estimators': [80, 100,150,200],\n",
    "    \"RandomClassifer__class_weight\":['balanced']\n",
    "}\n",
    "kfold = StratifiedKFold(n_splits=5, shuffle=True, random_state=145)\n",
    "# Create a based model\n",
    "# Instantiate the grid search model\n",
    "#rt_forest_grid = RandomizedSearchCV(estimator = random_for, param_distributions = param_grid,\n",
    "#                        cv = 3, n_jobs = -1, verbose = 2, scoring=\"f1_macro\",)\n",
    "\n",
    "rt_forest_grid = GridSearchCV(random_for, param_grid=param_grid, cv=kfold,scoring=\"f1_macro\")\n",
    "\n",
    "#rt_forest_grid = GridSearchCV(random_for, param_grid=param_grid, cv=kfold,scoring=\"f1_macro\")"
   ]
  },
  {
   "cell_type": "code",
   "execution_count": 98,
   "metadata": {},
   "outputs": [
    {
     "data": {
      "text/plain": [
       "GridSearchCV(cv=StratifiedKFold(n_splits=5, random_state=145, shuffle=True),\n",
       "             error_score='raise-deprecating',\n",
       "             estimator=Pipeline(memory=None,\n",
       "                                steps=[('preprocessor',\n",
       "                                        ColumnTransformer(n_jobs=None,\n",
       "                                                          remainder='drop',\n",
       "                                                          sparse_threshold=0.3,\n",
       "                                                          transformer_weights=None,\n",
       "                                                          transformers=[('num',\n",
       "                                                                         Pipeline(memory=None,\n",
       "                                                                                  steps=[('scaler',\n",
       "                                                                                          MinMaxScaler(copy=True,\n",
       "                                                                                                       feature_range=(...\n",
       "                         'RandomClassifer__class_weight': ['balanced'],\n",
       "                         'RandomClassifer__max_depth': [3, 7, 9, 10, 12],\n",
       "                         'RandomClassifer__max_features': ['sqrt', 'auto'],\n",
       "                         'RandomClassifer__min_samples_leaf': [3],\n",
       "                         'RandomClassifer__min_samples_split': [8, 10, 12, 14],\n",
       "                         'RandomClassifer__n_estimators': [80, 100, 150, 200]},\n",
       "             pre_dispatch='2*n_jobs', refit=True, return_train_score=False,\n",
       "             scoring='f1_macro', verbose=0)"
      ]
     },
     "execution_count": 98,
     "metadata": {},
     "output_type": "execute_result"
    }
   ],
   "source": [
    "rt_forest_grid.fit(X_train_m,y_train_m)"
   ]
  },
  {
   "cell_type": "code",
   "execution_count": 99,
   "metadata": {},
   "outputs": [
    {
     "data": {
      "text/plain": [
       "{'RandomClassifer__bootstrap': True,\n",
       " 'RandomClassifer__class_weight': 'balanced',\n",
       " 'RandomClassifer__max_depth': 12,\n",
       " 'RandomClassifer__max_features': 'sqrt',\n",
       " 'RandomClassifer__min_samples_leaf': 3,\n",
       " 'RandomClassifer__min_samples_split': 10,\n",
       " 'RandomClassifer__n_estimators': 150}"
      ]
     },
     "execution_count": 99,
     "metadata": {},
     "output_type": "execute_result"
    }
   ],
   "source": [
    "rt_forest_grid.best_params_"
   ]
  },
  {
   "cell_type": "code",
   "execution_count": 100,
   "metadata": {},
   "outputs": [],
   "source": [
    "y_train_grid_forest = rt_forest_grid.predict(X_train_m)\n",
    "y_test_grid_forest =rt_forest_grid.predict(X_test_m)"
   ]
  },
  {
   "cell_type": "code",
   "execution_count": 101,
   "metadata": {},
   "outputs": [
    {
     "name": "stdout",
     "output_type": "stream",
     "text": [
      "Misclassified samples: 4037\n",
      "Accuracy: 0.7864473127380449\n",
      "F1-Score: 0.7630788396812959\n"
     ]
    }
   ],
   "source": [
    "# how did our model perform?\n",
    "get_result(y_train_m,y_train_grid_forest)"
   ]
  },
  {
   "cell_type": "code",
   "execution_count": 102,
   "metadata": {},
   "outputs": [
    {
     "name": "stdout",
     "output_type": "stream",
     "text": [
      "Misclassified samples: 2589\n",
      "Accuracy: 0.6804492717847445\n",
      "F1-Score: 0.6370584664934706\n"
     ]
    }
   ],
   "source": [
    "# how did our model perform?\n",
    "get_result(y_test_m,y_test_grid_forest)"
   ]
  },
  {
   "cell_type": "code",
   "execution_count": 103,
   "metadata": {},
   "outputs": [
    {
     "data": {
      "text/plain": [
       "array([0.16565721, 0.04101845, 0.21822001, 0.22340016, 0.1650137 ,\n",
       "       0.04206134, 0.11977595, 0.00133544, 0.00851506, 0.00827326,\n",
       "       0.00280646, 0.00392297])"
      ]
     },
     "execution_count": 103,
     "metadata": {},
     "output_type": "execute_result"
    }
   ],
   "source": [
    "rt_forest_grid.best_estimator_.named_steps[\"RandomClassifer\"].feature_importances_"
   ]
  },
  {
   "cell_type": "code",
   "execution_count": 104,
   "metadata": {},
   "outputs": [],
   "source": [
    "feat_labels = list(X_train_m.columns)\n",
    "feat_labels.remove('sentiment_score')\n",
    "feat_labels.append('S1')\n",
    "feat_labels.append('S2')\n",
    "feat_labels.append('S3')\n",
    "feat_labels.append('S4')\n",
    "feat_labels.append('S5')\n",
    "feat_labels=np.array(feat_labels)\n"
   ]
  },
  {
   "cell_type": "code",
   "execution_count": 105,
   "metadata": {},
   "outputs": [
    {
     "data": {
      "text/plain": [
       "array(['SF1', 'SF2', 'SF3', 'SF4', 'SF5', 'SF6', 'SF7', 'S1', 'S2', 'S3',\n",
       "       'S4', 'S5'], dtype='<U3')"
      ]
     },
     "execution_count": 105,
     "metadata": {},
     "output_type": "execute_result"
    }
   ],
   "source": [
    "feat_labels"
   ]
  },
  {
   "cell_type": "markdown",
   "metadata": {},
   "source": [
    "### Feature Importance"
   ]
  },
  {
   "cell_type": "code",
   "execution_count": 106,
   "metadata": {},
   "outputs": [
    {
     "name": "stdout",
     "output_type": "stream",
     "text": [
      "[ 7 10 11  9  8  1  5  6  4  0  2  3]\n",
      "[ 3  2  0  4  6  5  1  8  9 11 10  7]\n"
     ]
    },
    {
     "data": {
      "image/png": "[encoded data removed]",
      "text/plain": [
       "<Figure size 432x288 with 1 Axes>"
      ]
     },
     "metadata": {},
     "output_type": "display_data"
    }
   ],
   "source": [
    "\n",
    "\n",
    "\n",
    "importances = rt_forest_grid.best_estimator_.named_steps[\"RandomClassifer\"].feature_importances_\n",
    "indices = np.argsort(importances)\n",
    "print(indices)\n",
    "\n",
    "indices1 = np.argsort(importances)[::-1]\n",
    "indices_hl = np.sort(importances)[::-1]\n",
    "print(indices1)\n",
    "# print(indices_hl)\n",
    "pd.DataFrame([feat_labels[indices1],indices_hl])\n",
    "\n",
    "import matplotlib.pyplot as plt\n",
    "%matplotlib inline\n",
    "features = feat_labels\n",
    "\n",
    "plt.title('Feature Importances')\n",
    "plt.barh(range(len(indices)),importances[indices], color='green')\n",
    "plt.yticks(range(len(indices)), [features[i] for i in indices])\n",
    "plt.xlabel('Relative Importance')\n",
    "plt.show()\n"
   ]
  },
  {
   "cell_type": "markdown",
   "metadata": {},
   "source": [
    "# Decision Tree with hyperparameters"
   ]
  },
  {
   "cell_type": "code",
   "execution_count": 79,
   "metadata": {},
   "outputs": [
    {
     "data": {
      "text/plain": [
       "GridSearchCV(cv=StratifiedKFold(n_splits=5, random_state=143, shuffle=True),\n",
       "             error_score='raise-deprecating',\n",
       "             estimator=Pipeline(memory=None,\n",
       "                                steps=[('preprocessor',\n",
       "                                        ColumnTransformer(n_jobs=None,\n",
       "                                                          remainder='drop',\n",
       "                                                          sparse_threshold=0.3,\n",
       "                                                          transformer_weights=None,\n",
       "                                                          transformers=[('num',\n",
       "                                                                         Pipeline(memory=None,\n",
       "                                                                                  steps=[('scaler',\n",
       "                                                                                          MinMaxScaler(copy=True,\n",
       "                                                                                                       feature_range=(...\n",
       "                                                               presort=False,\n",
       "                                                               random_state=None,\n",
       "                                                               splitter='best'))],\n",
       "                                verbose=False),\n",
       "             iid='warn', n_jobs=None,\n",
       "             param_grid={'classifier__criterion': ['entropy', 'gini'],\n",
       "                         'classifier__max_depth': [6, 8, 10, 12],\n",
       "                         'classifier__min_samples_leaf': [1, 5, 10],\n",
       "                         'classifier__min_samples_split': [2, 10, 20, 30]},\n",
       "             pre_dispatch='2*n_jobs', refit=True, return_train_score=False,\n",
       "             scoring='f1_macro', verbose=0)"
      ]
     },
     "execution_count": 79,
     "metadata": {},
     "output_type": "execute_result"
    }
   ],
   "source": [
    "from sklearn.tree import DecisionTreeClassifier\n",
    "clf_dt = Pipeline(steps=[('preprocessor', preprocessor),\n",
    "                      ('classifier', DecisionTreeClassifier())])\n",
    "\n",
    "kfold = StratifiedKFold(n_splits=5, shuffle=True, random_state=143)\n",
    "\n",
    "\n",
    "dt_param_grid = {'classifier__criterion': ['entropy', 'gini'], # metric for node splitting  \n",
    "                 'classifier__max_depth': [6,8,10,12],  #maximum depth of a tree\n",
    "                 \"classifier__min_samples_split\": [2, 10, 20 ,30],#minimum number of samples required in a node to be considered for splitting\n",
    "                 \n",
    "                 \"classifier__min_samples_leaf\": [1, 5, 10],# minimum samples required in a leaf\n",
    "                \"classifier__class_weight\":['balanced']}\n",
    "\n",
    "dt_grid = GridSearchCV(clf_dt, param_grid=dt_param_grid, cv=kfold,scoring=\"f1_macro\")\n",
    "\n",
    "dt_grid.fit(X_train_m,y_train_m)"
   ]
  },
  {
   "cell_type": "code",
   "execution_count": 80,
   "metadata": {},
   "outputs": [
    {
     "data": {
      "text/plain": [
       "{'classifier__criterion': 'entropy',\n",
       " 'classifier__max_depth': 12,\n",
       " 'classifier__min_samples_leaf': 10,\n",
       " 'classifier__min_samples_split': 30}"
      ]
     },
     "execution_count": 80,
     "metadata": {},
     "output_type": "execute_result"
    }
   ],
   "source": [
    "dt_grid.best_params_"
   ]
  },
  {
   "cell_type": "code",
   "execution_count": 81,
   "metadata": {},
   "outputs": [],
   "source": [
    "train_pred_dt = dt_grid.predict(X_train_m)\n",
    "test_pred_dt = dt_grid.predict(X_test_m)"
   ]
  },
  {
   "cell_type": "code",
   "execution_count": 82,
   "metadata": {},
   "outputs": [
    {
     "name": "stdout",
     "output_type": "stream",
     "text": [
      "Misclassified samples: 5003\n",
      "Accuracy: 0.7353470165044435\n",
      "F1-Score: 0.6933312135853377\n"
     ]
    }
   ],
   "source": [
    "get_result(y_train_m,train_pred_dt)"
   ]
  },
  {
   "cell_type": "code",
   "execution_count": 83,
   "metadata": {},
   "outputs": [
    {
     "name": "stdout",
     "output_type": "stream",
     "text": [
      "Misclassified samples: 2750\n",
      "Accuracy: 0.6605776351518143\n",
      "F1-Score: 0.6015819582426146\n"
     ]
    }
   ],
   "source": [
    "get_result(y_test_m,test_pred_dt)"
   ]
  },
  {
   "cell_type": "markdown",
   "metadata": {},
   "source": [
    "# Learning Curve"
   ]
  },
  {
   "cell_type": "code",
   "execution_count": 57,
   "metadata": {},
   "outputs": [],
   "source": [
    "from sklearn.model_selection import learning_curve\n",
    "from sklearn.model_selection import KFold\n",
    "\n",
    "size = 2\n",
    "cv = KFold(size, shuffle=True)\n",
    "\n",
    "def plot_curve(model,title):\n",
    "    # instantiate\n",
    "   # lg = LogisticRegression()\n",
    "\n",
    "    # fit\n",
    "    #random_for.fit(X, y)\n",
    "    \n",
    "    \n",
    "    \"\"\"\n",
    "    Generate a simple plot of the test and traning learning curve.\n",
    "\n",
    "    Parameters\n",
    "    ----------\n",
    "    estimator : object type that implements the \"fit\" and \"predict\" methods\n",
    "        An object of that type which is cloned for each validation.\n",
    "\n",
    "    title : string\n",
    "        Title for the chart.\n",
    "\n",
    "    X : array-like, shape (n_samples, n_features)\n",
    "        Training vector, where n_samples is the number of samples and\n",
    "        n_features is the number of features.\n",
    "\n",
    "    y : array-like, shape (n_samples) or (n_samples, n_features), optional\n",
    "        Target relative to X for classification or regression;\n",
    "        None for unsupervised learning.\n",
    "\n",
    "    ylim : tuple, shape (ymin, ymax), optional\n",
    "        Defines minimum and maximum yvalues plotted.\n",
    "\n",
    "    cv : integer, cross-validation generator, optional\n",
    "        If an integer is passed, it is the number of folds (defaults to 3).\n",
    "        Specific cross-validation objects can be passed, see\n",
    "        sklearn.cross_validation module for the list of possible objects\n",
    "\n",
    "    n_jobs : integer, optional\n",
    "        Number of jobs to run in parallel (default 1).\n",
    "        \n",
    "    x1 = np.linspace(0, 10, 8, endpoint=True) produces\n",
    "        8 evenly spaced points in the range 0 to 10\n",
    "    \"\"\"\n",
    "    \n",
    "    train_sizes, train_scores, test_scores = learning_curve(model, X, y, n_jobs=-1, cv=cv, train_sizes=np.linspace(.1, 1.0, 5), verbose=0)\n",
    "\n",
    "    train_scores_mean = np.mean(train_scores, axis=1)\n",
    "    train_scores_std = np.std(train_scores, axis=1)\n",
    "    test_scores_mean = np.mean(test_scores, axis=1)\n",
    "    test_scores_std = np.std(test_scores, axis=1)\n",
    "    \n",
    "    plt.figure()\n",
    "    plt.title(title)\n",
    "    plt.legend(loc=\"best\")\n",
    "    plt.xlabel(\"Training examples\")\n",
    "    plt.ylabel(\"Score\")\n",
    "    plt.gca().invert_yaxis()\n",
    "    \n",
    "    # box-like grid\n",
    "    plt.grid()\n",
    "    \n",
    "    # plot the std deviation as a transparent range at each training set size\n",
    "    plt.fill_between(train_sizes, train_scores_mean - train_scores_std, train_scores_mean + train_scores_std, alpha=0.1, color=\"r\")\n",
    "    plt.fill_between(train_sizes, test_scores_mean - test_scores_std, test_scores_mean + test_scores_std, alpha=0.1, color=\"g\")\n",
    "    \n",
    "    # plot the average training and test score lines at each training set size\n",
    "    plt.plot(train_sizes, train_scores_mean, 'o-', color=\"r\", label=\"Training score\")\n",
    "    plt.plot(train_sizes, test_scores_mean, 'o-', color=\"g\", label=\"Cross-validation score\")\n",
    "    \n",
    "    # sizes the window for readability and displays the plot\n",
    "    # shows error from 0 to 1.1\n",
    "    plt.ylim(-.1,1.1)\n",
    "    plt.show()"
   ]
  },
  {
   "cell_type": "markdown",
   "metadata": {},
   "source": [
    "### KNN"
   ]
  },
  {
   "cell_type": "code",
   "execution_count": 77,
   "metadata": {},
   "outputs": [
    {
     "name": "stderr",
     "output_type": "stream",
     "text": [
      "No handles with labels found to put in legend.\n"
     ]
    },
    {
     "data": {
      "image/png": "[encoded data removed]",
      "text/plain": [
       "<Figure size 432x288 with 1 Axes>"
      ]
     },
     "metadata": {},
     "output_type": "display_data"
    }
   ],
   "source": [
    "%matplotlib inline\n",
    "plot_curve(knn,\"KNN\")"
   ]
  },
  {
   "cell_type": "markdown",
   "metadata": {},
   "source": [
    "### Logistic Regression"
   ]
  },
  {
   "cell_type": "code",
   "execution_count": 76,
   "metadata": {},
   "outputs": [
    {
     "name": "stderr",
     "output_type": "stream",
     "text": [
      "No handles with labels found to put in legend.\n"
     ]
    },
    {
     "data": {
      "image/png": "[encoded data removed]",
      "text/plain": [
       "<Figure size 432x288 with 1 Axes>"
      ]
     },
     "metadata": {},
     "output_type": "display_data"
    }
   ],
   "source": [
    "%matplotlib inline\n",
    "plot_curve(lrc,\"Logistic Regression\")"
   ]
  },
  {
   "cell_type": "markdown",
   "metadata": {},
   "source": [
    "### Decision Tree"
   ]
  },
  {
   "cell_type": "code",
   "execution_count": 108,
   "metadata": {},
   "outputs": [
    {
     "name": "stderr",
     "output_type": "stream",
     "text": [
      "No handles with labels found to put in legend.\n"
     ]
    },
    {
     "data": {
      "image/png": "[encoded data removed]",
      "text/plain": [
       "<Figure size 432x288 with 1 Axes>"
      ]
     },
     "metadata": {},
     "output_type": "display_data"
    }
   ],
   "source": [
    "%matplotlib inline\n",
    "plot_curve(dt_grid,\"Decision Tree\")"
   ]
  },
  {
   "cell_type": "markdown",
   "metadata": {},
   "source": [
    "### Random Forest"
   ]
  },
  {
   "cell_type": "code",
   "execution_count": 109,
   "metadata": {},
   "outputs": [
    {
     "name": "stderr",
     "output_type": "stream",
     "text": [
      "No handles with labels found to put in legend.\n"
     ]
    },
    {
     "data": {
      "image/png": "[encoded data removed]",
      "text/plain": [
       "<Figure size 432x288 with 1 Axes>"
      ]
     },
     "metadata": {},
     "output_type": "display_data"
    }
   ],
   "source": [
    "%matplotlib inline\n",
    "plot_curve(rt_forest_grid,\"Random Forest\")"
   ]
  },
  {
   "cell_type": "markdown",
   "metadata": {},
   "source": [
    "# Model without Sentiment Score\n"
   ]
  },
  {
   "cell_type": "code",
   "execution_count": 18,
   "metadata": {},
   "outputs": [],
   "source": [
    "X=merged_data.drop(['date','alpha','ticker','month','sentiment_score'],axis=1)\n",
    "y=merged_data['alpha']"
   ]
  },
  {
   "cell_type": "code",
   "execution_count": 19,
   "metadata": {},
   "outputs": [],
   "source": [
    "cat_attr = list(X.select_dtypes(\"category\").columns)\n",
    "num_attr = list(X.columns.difference(cat_attr))"
   ]
  },
  {
   "cell_type": "code",
   "execution_count": 20,
   "metadata": {},
   "outputs": [],
   "source": [
    "from sklearn import preprocessing \n",
    "from sklearn.impute import SimpleImputer\n",
    "from sklearn.preprocessing import MinMaxScaler\n",
    "from sklearn.compose import ColumnTransformer\n",
    "from sklearn.pipeline import Pipeline\n",
    "from sklearn.preprocessing import StandardScaler\n",
    "from sklearn.preprocessing import OneHotEncoder\n",
    "train_num_attr = Pipeline(steps=[('scaler', MinMaxScaler(feature_range=(0, 1)))])\n",
    "from sklearn.model_selection import RandomizedSearchCV\n",
    "from sklearn.ensemble import RandomForestClassifier\n",
    "from sklearn.model_selection import GridSearchCV, cross_val_score, StratifiedKFold \n",
    "\n",
    "train_cat_attr = Pipeline(steps=[('onehot', OneHotEncoder(handle_unknown='ignore'))])\n",
    "\n",
    "preprocessor = ColumnTransformer(\n",
    "    transformers=[\n",
    "        ('num', train_num_attr, num_attr),\n",
    "        ('cat', train_cat_attr, cat_attr)])"
   ]
  },
  {
   "cell_type": "code",
   "execution_count": 21,
   "metadata": {},
   "outputs": [],
   "source": [
    "random_without = Pipeline(steps=[('preprocessor',preprocessor),\n",
    "                            ('RandomClassifer',RandomForestClassifier())])"
   ]
  },
  {
   "cell_type": "code",
   "execution_count": 22,
   "metadata": {},
   "outputs": [],
   "source": [
    "param_grid = {\n",
    "    'RandomClassifer__bootstrap': [True],\n",
    "    'RandomClassifer__max_depth': [3,7,9,10,12],\n",
    "    'RandomClassifer__max_features': ['sqrt','auto'],\n",
    "    'RandomClassifer__min_samples_leaf': [3],\n",
    "    'RandomClassifer__min_samples_split': [8, 10, 12, 14],\n",
    "    'RandomClassifer__n_estimators': [80, 100,150,200],\n",
    "    \"RandomClassifer__class_weight\":['balanced']\n",
    "}\n",
    "kfold = StratifiedKFold(n_splits=5, shuffle=True, random_state=142)\n",
    "# Create a based model\n",
    "# Instantiate the grid search model\n",
    "#random_without_s = RandomizedSearchCV(estimator = random_without, param_distributions = param_grid,\n",
    " #                        cv = 3, n_jobs = -1, verbose = 2, scoring=\"f1_macro\")\n",
    "\n",
    "random_without_s = GridSearchCV(random_without, param_grid=param_grid, cv=kfold,scoring=\"f1_macro\")\n"
   ]
  },
  {
   "cell_type": "code",
   "execution_count": 52,
   "metadata": {},
   "outputs": [],
   "source": [
    "from sklearn.model_selection import train_test_split\n",
    "X_train_m_s, X_test_m_s, y_train_m_s, y_test_m_s = train_test_split(X, y, test_size = 0.3, random_state=44,stratify=y)"
   ]
  },
  {
   "cell_type": "code",
   "execution_count": 54,
   "metadata": {},
   "outputs": [
    {
     "name": "stdout",
     "output_type": "stream",
     "text": [
      "\n"
     ]
    }
   ],
   "source": [
    "random_without_s.fit(X_train_m_s,y_train_m_s)"
   ]
  },
  {
   "cell_type": "code",
   "execution_count": 139,
   "metadata": {},
   "outputs": [],
   "source": [
    "y_train_sent_pred_s = random_without_s.predict(X_train_m_s)\n",
    "y_test_sent_pred_s =random_without_s.predict(X_test_m_s)"
   ]
  },
  {
   "cell_type": "code",
   "execution_count": 140,
   "metadata": {},
   "outputs": [
    {
     "data": {
      "text/plain": [
       "{'RandomClassifer__bootstrap': True,\n",
       " 'RandomClassifer__class_weight': 'balanced',\n",
       " 'RandomClassifer__max_depth': 12,\n",
       " 'RandomClassifer__max_features': 'auto',\n",
       " 'RandomClassifer__min_samples_leaf': 3,\n",
       " 'RandomClassifer__min_samples_split': 10,\n",
       " 'RandomClassifer__n_estimators': 100}"
      ]
     },
     "execution_count": 140,
     "metadata": {},
     "output_type": "execute_result"
    }
   ],
   "source": [
    "random_without_s.best_params_"
   ]
  },
  {
   "cell_type": "code",
   "execution_count": 141,
   "metadata": {},
   "outputs": [
    {
     "name": "stdout",
     "output_type": "stream",
     "text": [
      "Misclassified samples: 3842\n",
      "Accuracy: 0.7967625899280576\n",
      "F1-Score: 0.7730094874928789\n"
     ]
    }
   ],
   "source": [
    "# how did our model perform?\n",
    "get_result(y_train_m_s,y_train_sent_pred_s)"
   ]
  },
  {
   "cell_type": "code",
   "execution_count": 142,
   "metadata": {},
   "outputs": [
    {
     "name": "stdout",
     "output_type": "stream",
     "text": [
      "Misclassified samples: 2536\n",
      "Accuracy: 0.6869908664527277\n",
      "F1-Score: 0.6419942453444977\n"
     ]
    }
   ],
   "source": [
    "get_result(y_test_m_s,y_test_sent_pred_s)"
   ]
  },
  {
   "cell_type": "code",
   "execution_count": 143,
   "metadata": {},
   "outputs": [
    {
     "data": {
      "text/plain": [
       "array([0.16931522, 0.0400669 , 0.2274747 , 0.23478363, 0.16476687,\n",
       "       0.04237142, 0.12122126])"
      ]
     },
     "execution_count": 143,
     "metadata": {},
     "output_type": "execute_result"
    }
   ],
   "source": [
    "random_without_s.best_estimator_.named_steps[\"RandomClassifer\"].feature_importances_"
   ]
  },
  {
   "cell_type": "code",
   "execution_count": 144,
   "metadata": {},
   "outputs": [
    {
     "data": {
      "text/plain": [
       "Index(['SF1', 'SF2', 'SF3', 'SF4', 'SF5', 'SF6', 'SF7'], dtype='object')"
      ]
     },
     "execution_count": 144,
     "metadata": {},
     "output_type": "execute_result"
    }
   ],
   "source": [
    "features = X_train_m_s.columns\n",
    "features"
   ]
  },
  {
   "cell_type": "markdown",
   "metadata": {},
   "source": [
    "### Feature Importance"
   ]
  },
  {
   "cell_type": "code",
   "execution_count": 145,
   "metadata": {},
   "outputs": [
    {
     "name": "stdout",
     "output_type": "stream",
     "text": [
      "[1 5 6 4 0 2 3]\n",
      "[3 2 0 4 6 5 1]\n"
     ]
    },
    {
     "data": {
      "image/png": "[encoded data removed]",
      "text/plain": [
       "<Figure size 432x288 with 1 Axes>"
      ]
     },
     "metadata": {},
     "output_type": "display_data"
    }
   ],
   "source": [
    "\n",
    "\n",
    "\n",
    "importances = random_without_s.best_estimator_.named_steps[\"RandomClassifer\"].feature_importances_\n",
    "indices = np.argsort(importances)\n",
    "print(indices)\n",
    "\n",
    "indices1 = np.argsort(importances)[::-1]\n",
    "indices_hl = np.sort(importances)[::-1]\n",
    "print(indices1)\n",
    "# print(indices_hl)\n",
    "pd.DataFrame([X_train_m_s.columns[indices1],indices_hl])\n",
    "\n",
    "import matplotlib.pyplot as plt\n",
    "%matplotlib inline\n",
    "features = X_train_m_s.columns\n",
    "\n",
    "plt.title('Feature Importances')\n",
    "plt.barh(range(len(indices)),importances[indices], color='green')\n",
    "plt.yticks(range(len(indices)), [features[i] for i in indices])\n",
    "plt.xlabel('Relative Importance')\n",
    "plt.show()\n"
   ]
  },
  {
   "cell_type": "code",
   "execution_count": 58,
   "metadata": {},
   "outputs": [
    {
     "name": "stderr",
     "output_type": "stream",
     "text": [
      "No handles with labels found to put in legend.\n"
     ]
    },
    {
     "data": {
      "image/png": "[encoded data removed]",
      "text/plain": [
       "<Figure size 432x288 with 1 Axes>"
      ]
     },
     "metadata": {},
     "output_type": "display_data"
    }
   ],
   "source": [
    "%matplotlib inline\n",
    "plot_curve(random_without_s,\"Random forest without sentiment score\")"
   ]
  },
  {
   "cell_type": "code",
   "execution_count": 124,
   "metadata": {},
   "outputs": [
    {
     "data": {
      "text/plain": [
       "GridSearchCV(cv=StratifiedKFold(n_splits=5, random_state=143, shuffle=True),\n",
       "             error_score='raise-deprecating',\n",
       "             estimator=Pipeline(memory=None,\n",
       "                                steps=[('preprocessor',\n",
       "                                        ColumnTransformer(n_jobs=None,\n",
       "                                                          remainder='drop',\n",
       "                                                          sparse_threshold=0.3,\n",
       "                                                          transformer_weights=None,\n",
       "                                                          transformers=[('num',\n",
       "                                                                         Pipeline(memory=None,\n",
       "                                                                                  steps=[('scaler',\n",
       "                                                                                          MinMaxScaler(copy=True,\n",
       "                                                                                                       feature_range=(...\n",
       "                                                               splitter='best'))],\n",
       "                                verbose=False),\n",
       "             iid='warn', n_jobs=None,\n",
       "             param_grid={'classifier__class_weight': ['balanced'],\n",
       "                         'classifier__criterion': ['entropy', 'gini'],\n",
       "                         'classifier__max_depth': [6, 8, 10, 12],\n",
       "                         'classifier__min_samples_leaf': [1, 5, 10],\n",
       "                         'classifier__min_samples_split': [2, 10, 20, 30]},\n",
       "             pre_dispatch='2*n_jobs', refit=True, return_train_score=False,\n",
       "             scoring='f1_macro', verbose=0)"
      ]
     },
     "execution_count": 124,
     "metadata": {},
     "output_type": "execute_result"
    }
   ],
   "source": [
    "from sklearn.tree import DecisionTreeClassifier\n",
    "clf_dt = Pipeline(steps=[('preprocessor', preprocessor),\n",
    "                      ('classifier', DecisionTreeClassifier())])\n",
    "\n",
    "kfold = StratifiedKFold(n_splits=5, shuffle=True, random_state=143)\n",
    "\n",
    "\n",
    "dt_param_grid = {'classifier__criterion': ['entropy', 'gini'], 'classifier__max_depth': [6,8,10,12], \n",
    "                 \"classifier__min_samples_split\": [2, 10, 20 ,30],\"classifier__min_samples_leaf\": [1, 5, 10],\n",
    "                \"classifier__class_weight\":['balanced']}\n",
    "\n",
    "dt_grid_WS = GridSearchCV(clf_dt, param_grid=dt_param_grid, cv=kfold,scoring=\"f1_macro\")\n",
    "\n",
    "dt_grid_WS.fit(X_train_m_s,y_train_m_s)"
   ]
  },
  {
   "cell_type": "code",
   "execution_count": 127,
   "metadata": {},
   "outputs": [],
   "source": [
    "y_train_pred_WS = dt_grid_WS.predict(X_train_m_s)\n",
    "y_test_pred_WS =dt_grid_WS.predict(X_test_m_s)"
   ]
  },
  {
   "cell_type": "code",
   "execution_count": 128,
   "metadata": {},
   "outputs": [
    {
     "name": "stdout",
     "output_type": "stream",
     "text": [
      "Misclassified samples: 5018\n",
      "Accuracy: 0.7345535336436733\n",
      "F1-Score: 0.7017524026908537\n"
     ]
    }
   ],
   "source": [
    "# how did our model perform?\n",
    "get_result(y_train_m_s,y_train_pred_WS)"
   ]
  },
  {
   "cell_type": "code",
   "execution_count": 129,
   "metadata": {},
   "outputs": [
    {
     "name": "stdout",
     "output_type": "stream",
     "text": [
      "Misclassified samples: 2899\n",
      "Accuracy: 0.6421871142927672\n",
      "F1-Score: 0.595679359986006\n"
     ]
    }
   ],
   "source": [
    "get_result(y_test_m_s,y_test_pred_WS)"
   ]
  },
  {
   "cell_type": "code",
   "execution_count": 130,
   "metadata": {},
   "outputs": [
    {
     "name": "stderr",
     "output_type": "stream",
     "text": [
      "No handles with labels found to put in legend.\n"
     ]
    },
    {
     "data": {
      "image/png": "[encoded data removed]",
      "text/plain": [
       "<Figure size 432x288 with 1 Axes>"
      ]
     },
     "metadata": {},
     "output_type": "display_data"
    }
   ],
   "source": [
    "%matplotlib inline\n",
    "plot_curve(dt_grid_WS,\"Decision Tree\")"
   ]
  },
  {
   "cell_type": "markdown",
   "metadata": {},
   "source": [
    "# on whole dataset"
   ]
  },
  {
   "cell_type": "code",
   "execution_count": 23,
   "metadata": {},
   "outputs": [
    {
     "data": {
      "text/plain": [
       "GridSearchCV(cv=StratifiedKFold(n_splits=5, random_state=142, shuffle=True),\n",
       "             error_score='raise-deprecating',\n",
       "             estimator=Pipeline(memory=None,\n",
       "                                steps=[('preprocessor',\n",
       "                                        ColumnTransformer(n_jobs=None,\n",
       "                                                          remainder='drop',\n",
       "                                                          sparse_threshold=0.3,\n",
       "                                                          transformer_weights=None,\n",
       "                                                          transformers=[('num',\n",
       "                                                                         Pipeline(memory=None,\n",
       "                                                                                  steps=[('scaler',\n",
       "                                                                                          MinMaxScaler(copy=True,\n",
       "                                                                                                       feature_range=(...\n",
       "                         'RandomClassifer__class_weight': ['balanced'],\n",
       "                         'RandomClassifer__max_depth': [3, 7, 9, 10, 12],\n",
       "                         'RandomClassifer__max_features': ['sqrt', 'auto'],\n",
       "                         'RandomClassifer__min_samples_leaf': [3],\n",
       "                         'RandomClassifer__min_samples_split': [8, 10, 12, 14],\n",
       "                         'RandomClassifer__n_estimators': [80, 100, 150, 200]},\n",
       "             pre_dispatch='2*n_jobs', refit=True, return_train_score=False,\n",
       "             scoring='f1_macro', verbose=0)"
      ]
     },
     "execution_count": 23,
     "metadata": {},
     "output_type": "execute_result"
    }
   ],
   "source": [
    "random_without_s.fit(X,y)"
   ]
  },
  {
   "cell_type": "code",
   "execution_count": 26,
   "metadata": {},
   "outputs": [],
   "source": [
    "y_train_whole_data = random_without_s.predict(X)"
   ]
  },
  {
   "cell_type": "code",
   "execution_count": 27,
   "metadata": {},
   "outputs": [
    {
     "name": "stdout",
     "output_type": "stream",
     "text": [
      "Misclassified samples: 5758\n",
      "Accuracy: 0.7867881211582611\n",
      "F1-Score: 0.7620627206183969\n"
     ]
    }
   ],
   "source": [
    "get_result(y,y_train_whole_data)"
   ]
  },
  {
   "cell_type": "markdown",
   "metadata": {},
   "source": [
    "# On Test Data with sentiment Score"
   ]
  },
  {
   "cell_type": "code",
   "execution_count": 132,
   "metadata": {},
   "outputs": [],
   "source": [
    "Test_data_factor = pd.read_csv(\"Test_data_factors.csv\",index_col=0)\n",
    "Test_data_twitter['date']=pd.to_datetime(Test_data_twitter['date'].astype(str))\n",
    "Test_data_factor['date']=pd.to_datetime(Test_data_factor['date'].astype(str))\n",
    "Test_id = Test_data_factor['Id']\n",
    "Test_data_factor.drop('Id',inplace=True,axis=1)\n",
    "group_data1 = Test_data_twitter.groupby(by=['date','ticker'])['sentiment_score'].apply(lambda x:x.value_counts().index[0]).to_frame()\n",
    "merged_data1 = pd.merge(Test_data_factor,group_data1,  how='left', left_on=['date','ticker'], right_on = ['date','ticker'])\n",
    "merged_data1.fillna(2,inplace=True)\n",
    "merged_data1['sentiment_score']=merged_data1['sentiment_score'].astype('category')\n",
    "X_test_last=merged_data1.drop(['date','ticker'],axis=1)\n"
   ]
  },
  {
   "cell_type": "code",
   "execution_count": 133,
   "metadata": {},
   "outputs": [
    {
     "data": {
      "text/html": [
       "<div>\n",
       "<style scoped>\n",
       "    .dataframe tbody tr th:only-of-type {\n",
       "        vertical-align: middle;\n",
       "    }\n",
       "\n",
       "    .dataframe tbody tr th {\n",
       "        vertical-align: top;\n",
       "    }\n",
       "\n",
       "    .dataframe thead th {\n",
       "        text-align: right;\n",
       "    }\n",
       "</style>\n",
       "<table border=\"1\" class=\"dataframe\">\n",
       "  <thead>\n",
       "    <tr style=\"text-align: right;\">\n",
       "      <th></th>\n",
       "      <th>SF1</th>\n",
       "      <th>SF2</th>\n",
       "      <th>SF3</th>\n",
       "      <th>SF4</th>\n",
       "      <th>SF5</th>\n",
       "      <th>SF6</th>\n",
       "      <th>SF7</th>\n",
       "      <th>sentiment_score</th>\n",
       "    </tr>\n",
       "  </thead>\n",
       "  <tbody>\n",
       "    <tr>\n",
       "      <th>0</th>\n",
       "      <td>-3.062194</td>\n",
       "      <td>1.223466</td>\n",
       "      <td>1.741714</td>\n",
       "      <td>2.279266</td>\n",
       "      <td>-1.323573</td>\n",
       "      <td>-0.274912</td>\n",
       "      <td>-4.504449</td>\n",
       "      <td>2.0</td>\n",
       "    </tr>\n",
       "    <tr>\n",
       "      <th>1</th>\n",
       "      <td>0.816263</td>\n",
       "      <td>-2.184408</td>\n",
       "      <td>0.157975</td>\n",
       "      <td>-0.264743</td>\n",
       "      <td>-0.836282</td>\n",
       "      <td>0.046276</td>\n",
       "      <td>0.826353</td>\n",
       "      <td>2.0</td>\n",
       "    </tr>\n",
       "    <tr>\n",
       "      <th>2</th>\n",
       "      <td>0.401281</td>\n",
       "      <td>0.091604</td>\n",
       "      <td>0.083411</td>\n",
       "      <td>-1.147041</td>\n",
       "      <td>-0.485223</td>\n",
       "      <td>-0.601060</td>\n",
       "      <td>1.012811</td>\n",
       "      <td>2.0</td>\n",
       "    </tr>\n",
       "    <tr>\n",
       "      <th>3</th>\n",
       "      <td>-0.783521</td>\n",
       "      <td>1.192929</td>\n",
       "      <td>0.813831</td>\n",
       "      <td>-0.368166</td>\n",
       "      <td>-1.113656</td>\n",
       "      <td>-0.553581</td>\n",
       "      <td>-0.683803</td>\n",
       "      <td>3.0</td>\n",
       "    </tr>\n",
       "    <tr>\n",
       "      <th>4</th>\n",
       "      <td>0.796507</td>\n",
       "      <td>0.455341</td>\n",
       "      <td>0.679032</td>\n",
       "      <td>0.354336</td>\n",
       "      <td>-1.799055</td>\n",
       "      <td>0.126153</td>\n",
       "      <td>0.297111</td>\n",
       "      <td>2.0</td>\n",
       "    </tr>\n",
       "    <tr>\n",
       "      <th>5</th>\n",
       "      <td>0.702094</td>\n",
       "      <td>-0.196188</td>\n",
       "      <td>-0.188337</td>\n",
       "      <td>0.085184</td>\n",
       "      <td>-0.069336</td>\n",
       "      <td>-1.234907</td>\n",
       "      <td>0.611883</td>\n",
       "      <td>4.0</td>\n",
       "    </tr>\n",
       "    <tr>\n",
       "      <th>6</th>\n",
       "      <td>-1.039568</td>\n",
       "      <td>-1.593158</td>\n",
       "      <td>0.106040</td>\n",
       "      <td>0.078077</td>\n",
       "      <td>0.451450</td>\n",
       "      <td>0.634200</td>\n",
       "      <td>-0.981084</td>\n",
       "      <td>2.0</td>\n",
       "    </tr>\n",
       "    <tr>\n",
       "      <th>7</th>\n",
       "      <td>-0.614720</td>\n",
       "      <td>-0.526076</td>\n",
       "      <td>0.336661</td>\n",
       "      <td>1.794084</td>\n",
       "      <td>-0.157760</td>\n",
       "      <td>-0.401748</td>\n",
       "      <td>-1.700004</td>\n",
       "      <td>2.0</td>\n",
       "    </tr>\n",
       "    <tr>\n",
       "      <th>8</th>\n",
       "      <td>-1.041456</td>\n",
       "      <td>1.692789</td>\n",
       "      <td>0.711916</td>\n",
       "      <td>1.236881</td>\n",
       "      <td>-0.654127</td>\n",
       "      <td>1.298980</td>\n",
       "      <td>-1.840617</td>\n",
       "      <td>4.0</td>\n",
       "    </tr>\n",
       "    <tr>\n",
       "      <th>9</th>\n",
       "      <td>-0.042736</td>\n",
       "      <td>-1.238728</td>\n",
       "      <td>-0.018280</td>\n",
       "      <td>-0.574350</td>\n",
       "      <td>0.026858</td>\n",
       "      <td>-0.574227</td>\n",
       "      <td>0.311229</td>\n",
       "      <td>2.0</td>\n",
       "    </tr>\n",
       "    <tr>\n",
       "      <th>10</th>\n",
       "      <td>-0.031986</td>\n",
       "      <td>0.242298</td>\n",
       "      <td>-0.146327</td>\n",
       "      <td>-0.938910</td>\n",
       "      <td>0.246609</td>\n",
       "      <td>0.431475</td>\n",
       "      <td>0.573460</td>\n",
       "      <td>2.0</td>\n",
       "    </tr>\n",
       "    <tr>\n",
       "      <th>11</th>\n",
       "      <td>1.261427</td>\n",
       "      <td>-0.615010</td>\n",
       "      <td>-0.755886</td>\n",
       "      <td>-0.239519</td>\n",
       "      <td>0.663213</td>\n",
       "      <td>-1.214216</td>\n",
       "      <td>1.447737</td>\n",
       "      <td>0.0</td>\n",
       "    </tr>\n",
       "    <tr>\n",
       "      <th>12</th>\n",
       "      <td>0.409583</td>\n",
       "      <td>-0.610219</td>\n",
       "      <td>-0.530149</td>\n",
       "      <td>-0.958150</td>\n",
       "      <td>0.714657</td>\n",
       "      <td>-0.270439</td>\n",
       "      <td>1.074056</td>\n",
       "      <td>2.0</td>\n",
       "    </tr>\n",
       "    <tr>\n",
       "      <th>13</th>\n",
       "      <td>-0.105258</td>\n",
       "      <td>1.647386</td>\n",
       "      <td>0.746626</td>\n",
       "      <td>-0.553883</td>\n",
       "      <td>-1.420393</td>\n",
       "      <td>0.152901</td>\n",
       "      <td>0.036364</td>\n",
       "      <td>0.0</td>\n",
       "    </tr>\n",
       "    <tr>\n",
       "      <th>14</th>\n",
       "      <td>0.522552</td>\n",
       "      <td>-1.138966</td>\n",
       "      <td>-0.313593</td>\n",
       "      <td>-2.300500</td>\n",
       "      <td>0.139443</td>\n",
       "      <td>-0.677502</td>\n",
       "      <td>1.916296</td>\n",
       "      <td>2.0</td>\n",
       "    </tr>\n",
       "    <tr>\n",
       "      <th>15</th>\n",
       "      <td>0.125713</td>\n",
       "      <td>-0.334553</td>\n",
       "      <td>0.151241</td>\n",
       "      <td>0.701004</td>\n",
       "      <td>-0.329749</td>\n",
       "      <td>-0.269307</td>\n",
       "      <td>-0.350878</td>\n",
       "      <td>2.0</td>\n",
       "    </tr>\n",
       "    <tr>\n",
       "      <th>16</th>\n",
       "      <td>0.200083</td>\n",
       "      <td>-0.229877</td>\n",
       "      <td>-0.380064</td>\n",
       "      <td>-0.596505</td>\n",
       "      <td>0.576681</td>\n",
       "      <td>-0.162240</td>\n",
       "      <td>0.634448</td>\n",
       "      <td>2.0</td>\n",
       "    </tr>\n",
       "    <tr>\n",
       "      <th>17</th>\n",
       "      <td>0.477050</td>\n",
       "      <td>-0.134283</td>\n",
       "      <td>-0.563577</td>\n",
       "      <td>-0.209826</td>\n",
       "      <td>0.783606</td>\n",
       "      <td>-0.616968</td>\n",
       "      <td>0.694400</td>\n",
       "      <td>2.0</td>\n",
       "    </tr>\n",
       "    <tr>\n",
       "      <th>18</th>\n",
       "      <td>-0.939268</td>\n",
       "      <td>-0.282646</td>\n",
       "      <td>-0.010505</td>\n",
       "      <td>0.723180</td>\n",
       "      <td>0.655060</td>\n",
       "      <td>0.964111</td>\n",
       "      <td>-1.247792</td>\n",
       "      <td>2.0</td>\n",
       "    </tr>\n",
       "    <tr>\n",
       "      <th>19</th>\n",
       "      <td>0.439522</td>\n",
       "      <td>0.250390</td>\n",
       "      <td>-0.340422</td>\n",
       "      <td>-0.600583</td>\n",
       "      <td>0.348950</td>\n",
       "      <td>-0.105634</td>\n",
       "      <td>0.834665</td>\n",
       "      <td>2.0</td>\n",
       "    </tr>\n",
       "    <tr>\n",
       "      <th>20</th>\n",
       "      <td>0.373126</td>\n",
       "      <td>-0.335881</td>\n",
       "      <td>-0.094643</td>\n",
       "      <td>-1.219024</td>\n",
       "      <td>-0.125672</td>\n",
       "      <td>-0.666198</td>\n",
       "      <td>1.079791</td>\n",
       "      <td>2.0</td>\n",
       "    </tr>\n",
       "    <tr>\n",
       "      <th>21</th>\n",
       "      <td>-0.589221</td>\n",
       "      <td>-0.762998</td>\n",
       "      <td>0.884441</td>\n",
       "      <td>1.777245</td>\n",
       "      <td>-1.240278</td>\n",
       "      <td>-0.930614</td>\n",
       "      <td>-1.816798</td>\n",
       "      <td>4.0</td>\n",
       "    </tr>\n",
       "    <tr>\n",
       "      <th>22</th>\n",
       "      <td>-0.056373</td>\n",
       "      <td>0.003418</td>\n",
       "      <td>-0.988696</td>\n",
       "      <td>-0.803319</td>\n",
       "      <td>1.908768</td>\n",
       "      <td>-0.109999</td>\n",
       "      <td>0.700375</td>\n",
       "      <td>4.0</td>\n",
       "    </tr>\n",
       "    <tr>\n",
       "      <th>23</th>\n",
       "      <td>-0.670265</td>\n",
       "      <td>0.898939</td>\n",
       "      <td>0.704707</td>\n",
       "      <td>1.783110</td>\n",
       "      <td>-0.839425</td>\n",
       "      <td>0.217024</td>\n",
       "      <td>-1.841987</td>\n",
       "      <td>4.0</td>\n",
       "    </tr>\n",
       "    <tr>\n",
       "      <th>24</th>\n",
       "      <td>1.222479</td>\n",
       "      <td>1.212959</td>\n",
       "      <td>0.155185</td>\n",
       "      <td>1.069032</td>\n",
       "      <td>-1.003446</td>\n",
       "      <td>0.540839</td>\n",
       "      <td>0.383312</td>\n",
       "      <td>4.0</td>\n",
       "    </tr>\n",
       "    <tr>\n",
       "      <th>25</th>\n",
       "      <td>-0.952112</td>\n",
       "      <td>1.304886</td>\n",
       "      <td>-0.253459</td>\n",
       "      <td>0.087806</td>\n",
       "      <td>1.096372</td>\n",
       "      <td>-0.315574</td>\n",
       "      <td>-0.812887</td>\n",
       "      <td>0.0</td>\n",
       "    </tr>\n",
       "    <tr>\n",
       "      <th>26</th>\n",
       "      <td>0.754268</td>\n",
       "      <td>-0.288923</td>\n",
       "      <td>0.187159</td>\n",
       "      <td>0.560544</td>\n",
       "      <td>-0.803049</td>\n",
       "      <td>-0.410093</td>\n",
       "      <td>0.270860</td>\n",
       "      <td>2.0</td>\n",
       "    </tr>\n",
       "    <tr>\n",
       "      <th>27</th>\n",
       "      <td>-0.575702</td>\n",
       "      <td>-1.582086</td>\n",
       "      <td>0.469425</td>\n",
       "      <td>1.294811</td>\n",
       "      <td>-0.471389</td>\n",
       "      <td>0.763746</td>\n",
       "      <td>-1.403566</td>\n",
       "      <td>2.0</td>\n",
       "    </tr>\n",
       "    <tr>\n",
       "      <th>28</th>\n",
       "      <td>0.054617</td>\n",
       "      <td>0.992169</td>\n",
       "      <td>-0.432344</td>\n",
       "      <td>-0.648978</td>\n",
       "      <td>0.766479</td>\n",
       "      <td>-0.713565</td>\n",
       "      <td>0.553345</td>\n",
       "      <td>2.0</td>\n",
       "    </tr>\n",
       "    <tr>\n",
       "      <th>29</th>\n",
       "      <td>-0.361108</td>\n",
       "      <td>-1.106667</td>\n",
       "      <td>-0.177464</td>\n",
       "      <td>-0.022529</td>\n",
       "      <td>0.570567</td>\n",
       "      <td>1.719563</td>\n",
       "      <td>-0.252780</td>\n",
       "      <td>2.0</td>\n",
       "    </tr>\n",
       "    <tr>\n",
       "      <th>...</th>\n",
       "      <td>...</td>\n",
       "      <td>...</td>\n",
       "      <td>...</td>\n",
       "      <td>...</td>\n",
       "      <td>...</td>\n",
       "      <td>...</td>\n",
       "      <td>...</td>\n",
       "      <td>...</td>\n",
       "    </tr>\n",
       "    <tr>\n",
       "      <th>11545</th>\n",
       "      <td>0.077623</td>\n",
       "      <td>-1.349816</td>\n",
       "      <td>0.019563</td>\n",
       "      <td>0.215003</td>\n",
       "      <td>-0.073497</td>\n",
       "      <td>0.110572</td>\n",
       "      <td>-0.066288</td>\n",
       "      <td>2.0</td>\n",
       "    </tr>\n",
       "    <tr>\n",
       "      <th>11546</th>\n",
       "      <td>-0.612845</td>\n",
       "      <td>-0.857471</td>\n",
       "      <td>-0.245718</td>\n",
       "      <td>-0.063033</td>\n",
       "      <td>0.858917</td>\n",
       "      <td>1.284820</td>\n",
       "      <td>-0.429263</td>\n",
       "      <td>2.0</td>\n",
       "    </tr>\n",
       "    <tr>\n",
       "      <th>11547</th>\n",
       "      <td>0.554365</td>\n",
       "      <td>-1.385894</td>\n",
       "      <td>-0.312833</td>\n",
       "      <td>-0.588221</td>\n",
       "      <td>0.223929</td>\n",
       "      <td>1.130051</td>\n",
       "      <td>0.919800</td>\n",
       "      <td>2.0</td>\n",
       "    </tr>\n",
       "    <tr>\n",
       "      <th>11548</th>\n",
       "      <td>0.959435</td>\n",
       "      <td>-0.876045</td>\n",
       "      <td>-0.492650</td>\n",
       "      <td>0.187773</td>\n",
       "      <td>0.367301</td>\n",
       "      <td>-0.448765</td>\n",
       "      <td>0.857509</td>\n",
       "      <td>2.0</td>\n",
       "    </tr>\n",
       "    <tr>\n",
       "      <th>11549</th>\n",
       "      <td>-1.608385</td>\n",
       "      <td>-0.606954</td>\n",
       "      <td>1.027482</td>\n",
       "      <td>1.580421</td>\n",
       "      <td>-0.890619</td>\n",
       "      <td>-0.593401</td>\n",
       "      <td>-2.625778</td>\n",
       "      <td>1.0</td>\n",
       "    </tr>\n",
       "    <tr>\n",
       "      <th>11550</th>\n",
       "      <td>-0.521808</td>\n",
       "      <td>0.165307</td>\n",
       "      <td>-0.471318</td>\n",
       "      <td>0.260038</td>\n",
       "      <td>1.260536</td>\n",
       "      <td>0.127517</td>\n",
       "      <td>-0.481775</td>\n",
       "      <td>2.0</td>\n",
       "    </tr>\n",
       "    <tr>\n",
       "      <th>11551</th>\n",
       "      <td>-0.130973</td>\n",
       "      <td>-0.489185</td>\n",
       "      <td>-0.225421</td>\n",
       "      <td>-1.024530</td>\n",
       "      <td>0.457320</td>\n",
       "      <td>0.578638</td>\n",
       "      <td>0.559964</td>\n",
       "      <td>3.0</td>\n",
       "    </tr>\n",
       "    <tr>\n",
       "      <th>11552</th>\n",
       "      <td>-0.218361</td>\n",
       "      <td>-0.435827</td>\n",
       "      <td>0.567601</td>\n",
       "      <td>1.477148</td>\n",
       "      <td>-0.875483</td>\n",
       "      <td>-1.963782</td>\n",
       "      <td>-1.228060</td>\n",
       "      <td>2.0</td>\n",
       "    </tr>\n",
       "    <tr>\n",
       "      <th>11553</th>\n",
       "      <td>0.605955</td>\n",
       "      <td>0.151207</td>\n",
       "      <td>-0.252817</td>\n",
       "      <td>-0.487511</td>\n",
       "      <td>0.081026</td>\n",
       "      <td>-0.056257</td>\n",
       "      <td>0.888178</td>\n",
       "      <td>2.0</td>\n",
       "    </tr>\n",
       "    <tr>\n",
       "      <th>11554</th>\n",
       "      <td>-0.058727</td>\n",
       "      <td>1.096019</td>\n",
       "      <td>0.607082</td>\n",
       "      <td>-0.905380</td>\n",
       "      <td>-1.199943</td>\n",
       "      <td>-0.692145</td>\n",
       "      <td>0.325079</td>\n",
       "      <td>2.0</td>\n",
       "    </tr>\n",
       "    <tr>\n",
       "      <th>11555</th>\n",
       "      <td>-0.237393</td>\n",
       "      <td>1.134163</td>\n",
       "      <td>-0.209748</td>\n",
       "      <td>0.640271</td>\n",
       "      <td>0.596674</td>\n",
       "      <td>-0.108285</td>\n",
       "      <td>-0.532607</td>\n",
       "      <td>2.0</td>\n",
       "    </tr>\n",
       "    <tr>\n",
       "      <th>11556</th>\n",
       "      <td>-0.418821</td>\n",
       "      <td>-0.280133</td>\n",
       "      <td>-0.090566</td>\n",
       "      <td>-1.208461</td>\n",
       "      <td>0.364414</td>\n",
       "      <td>0.636413</td>\n",
       "      <td>0.382526</td>\n",
       "      <td>2.0</td>\n",
       "    </tr>\n",
       "    <tr>\n",
       "      <th>11557</th>\n",
       "      <td>-0.126448</td>\n",
       "      <td>-1.065814</td>\n",
       "      <td>0.022143</td>\n",
       "      <td>-0.472463</td>\n",
       "      <td>0.007111</td>\n",
       "      <td>2.791533</td>\n",
       "      <td>0.166378</td>\n",
       "      <td>2.0</td>\n",
       "    </tr>\n",
       "    <tr>\n",
       "      <th>11558</th>\n",
       "      <td>-1.152379</td>\n",
       "      <td>0.167335</td>\n",
       "      <td>0.053843</td>\n",
       "      <td>2.480657</td>\n",
       "      <td>0.772479</td>\n",
       "      <td>0.421123</td>\n",
       "      <td>-2.501967</td>\n",
       "      <td>1.0</td>\n",
       "    </tr>\n",
       "    <tr>\n",
       "      <th>11559</th>\n",
       "      <td>1.404660</td>\n",
       "      <td>0.186715</td>\n",
       "      <td>-0.844472</td>\n",
       "      <td>-0.618585</td>\n",
       "      <td>0.722111</td>\n",
       "      <td>-0.527152</td>\n",
       "      <td>1.823305</td>\n",
       "      <td>2.0</td>\n",
       "    </tr>\n",
       "    <tr>\n",
       "      <th>11560</th>\n",
       "      <td>-0.148869</td>\n",
       "      <td>-0.923950</td>\n",
       "      <td>0.624246</td>\n",
       "      <td>0.331033</td>\n",
       "      <td>-1.100217</td>\n",
       "      <td>-0.939482</td>\n",
       "      <td>-0.497528</td>\n",
       "      <td>2.0</td>\n",
       "    </tr>\n",
       "    <tr>\n",
       "      <th>11561</th>\n",
       "      <td>0.609214</td>\n",
       "      <td>-0.201425</td>\n",
       "      <td>-0.011233</td>\n",
       "      <td>-1.650010</td>\n",
       "      <td>-0.462842</td>\n",
       "      <td>1.049227</td>\n",
       "      <td>1.520483</td>\n",
       "      <td>2.0</td>\n",
       "    </tr>\n",
       "    <tr>\n",
       "      <th>11562</th>\n",
       "      <td>1.272837</td>\n",
       "      <td>-0.349691</td>\n",
       "      <td>-1.211811</td>\n",
       "      <td>0.617763</td>\n",
       "      <td>1.595890</td>\n",
       "      <td>-0.579059</td>\n",
       "      <td>1.069071</td>\n",
       "      <td>2.0</td>\n",
       "    </tr>\n",
       "    <tr>\n",
       "      <th>11563</th>\n",
       "      <td>-0.171130</td>\n",
       "      <td>-0.577751</td>\n",
       "      <td>0.578951</td>\n",
       "      <td>-0.221939</td>\n",
       "      <td>-1.032350</td>\n",
       "      <td>1.499678</td>\n",
       "      <td>-0.173896</td>\n",
       "      <td>1.0</td>\n",
       "    </tr>\n",
       "    <tr>\n",
       "      <th>11564</th>\n",
       "      <td>-0.909860</td>\n",
       "      <td>-1.014288</td>\n",
       "      <td>0.276321</td>\n",
       "      <td>-1.329303</td>\n",
       "      <td>-0.048293</td>\n",
       "      <td>0.175273</td>\n",
       "      <td>-0.072781</td>\n",
       "      <td>3.0</td>\n",
       "    </tr>\n",
       "    <tr>\n",
       "      <th>11565</th>\n",
       "      <td>-0.624037</td>\n",
       "      <td>-0.319147</td>\n",
       "      <td>-0.070313</td>\n",
       "      <td>0.688965</td>\n",
       "      <td>0.571301</td>\n",
       "      <td>1.569953</td>\n",
       "      <td>-0.936466</td>\n",
       "      <td>2.0</td>\n",
       "    </tr>\n",
       "    <tr>\n",
       "      <th>11566</th>\n",
       "      <td>0.278173</td>\n",
       "      <td>-2.648699</td>\n",
       "      <td>0.143799</td>\n",
       "      <td>0.070359</td>\n",
       "      <td>-0.450043</td>\n",
       "      <td>-1.078643</td>\n",
       "      <td>0.161096</td>\n",
       "      <td>0.0</td>\n",
       "    </tr>\n",
       "    <tr>\n",
       "      <th>11567</th>\n",
       "      <td>0.570537</td>\n",
       "      <td>-0.058851</td>\n",
       "      <td>0.082265</td>\n",
       "      <td>-1.561178</td>\n",
       "      <td>-0.614914</td>\n",
       "      <td>-0.635653</td>\n",
       "      <td>1.408224</td>\n",
       "      <td>3.0</td>\n",
       "    </tr>\n",
       "    <tr>\n",
       "      <th>11568</th>\n",
       "      <td>0.804360</td>\n",
       "      <td>-0.525205</td>\n",
       "      <td>-0.419161</td>\n",
       "      <td>-0.079583</td>\n",
       "      <td>0.305211</td>\n",
       "      <td>1.152763</td>\n",
       "      <td>0.862317</td>\n",
       "      <td>2.0</td>\n",
       "    </tr>\n",
       "    <tr>\n",
       "      <th>11569</th>\n",
       "      <td>0.599594</td>\n",
       "      <td>-1.615815</td>\n",
       "      <td>-0.233842</td>\n",
       "      <td>-0.215777</td>\n",
       "      <td>0.064925</td>\n",
       "      <td>0.784557</td>\n",
       "      <td>0.714967</td>\n",
       "      <td>3.0</td>\n",
       "    </tr>\n",
       "    <tr>\n",
       "      <th>11570</th>\n",
       "      <td>-3.442316</td>\n",
       "      <td>0.455191</td>\n",
       "      <td>0.941669</td>\n",
       "      <td>-0.834807</td>\n",
       "      <td>0.278606</td>\n",
       "      <td>-0.233547</td>\n",
       "      <td>-2.755514</td>\n",
       "      <td>2.0</td>\n",
       "    </tr>\n",
       "    <tr>\n",
       "      <th>11571</th>\n",
       "      <td>-1.650993</td>\n",
       "      <td>-0.499109</td>\n",
       "      <td>-0.771762</td>\n",
       "      <td>-2.645119</td>\n",
       "      <td>2.374321</td>\n",
       "      <td>-0.200878</td>\n",
       "      <td>0.353774</td>\n",
       "      <td>2.0</td>\n",
       "    </tr>\n",
       "    <tr>\n",
       "      <th>11572</th>\n",
       "      <td>-1.578543</td>\n",
       "      <td>1.482062</td>\n",
       "      <td>0.672188</td>\n",
       "      <td>0.908843</td>\n",
       "      <td>-0.259848</td>\n",
       "      <td>-0.136924</td>\n",
       "      <td>-2.101467</td>\n",
       "      <td>3.0</td>\n",
       "    </tr>\n",
       "    <tr>\n",
       "      <th>11573</th>\n",
       "      <td>-0.027608</td>\n",
       "      <td>0.811717</td>\n",
       "      <td>-0.148925</td>\n",
       "      <td>-0.700263</td>\n",
       "      <td>0.263678</td>\n",
       "      <td>-0.180345</td>\n",
       "      <td>0.435261</td>\n",
       "      <td>4.0</td>\n",
       "    </tr>\n",
       "    <tr>\n",
       "      <th>11574</th>\n",
       "      <td>0.591726</td>\n",
       "      <td>0.435771</td>\n",
       "      <td>-0.009138</td>\n",
       "      <td>-0.912432</td>\n",
       "      <td>-0.410299</td>\n",
       "      <td>0.072242</td>\n",
       "      <td>1.063584</td>\n",
       "      <td>2.0</td>\n",
       "    </tr>\n",
       "  </tbody>\n",
       "</table>\n",
       "<p>11575 rows × 8 columns</p>\n",
       "</div>"
      ],
      "text/plain": [
       "            SF1       SF2       SF3       SF4       SF5       SF6       SF7  \\\n",
       "0     -3.062194  1.223466  1.741714  2.279266 -1.323573 -0.274912 -4.504449   \n",
       "1      0.816263 -2.184408  0.157975 -0.264743 -0.836282  0.046276  0.826353   \n",
       "2      0.401281  0.091604  0.083411 -1.147041 -0.485223 -0.601060  1.012811   \n",
       "3     -0.783521  1.192929  0.813831 -0.368166 -1.113656 -0.553581 -0.683803   \n",
       "4      0.796507  0.455341  0.679032  0.354336 -1.799055  0.126153  0.297111   \n",
       "5      0.702094 -0.196188 -0.188337  0.085184 -0.069336 -1.234907  0.611883   \n",
       "6     -1.039568 -1.593158  0.106040  0.078077  0.451450  0.634200 -0.981084   \n",
       "7     -0.614720 -0.526076  0.336661  1.794084 -0.157760 -0.401748 -1.700004   \n",
       "8     -1.041456  1.692789  0.711916  1.236881 -0.654127  1.298980 -1.840617   \n",
       "9     -0.042736 -1.238728 -0.018280 -0.574350  0.026858 -0.574227  0.311229   \n",
       "10    -0.031986  0.242298 -0.146327 -0.938910  0.246609  0.431475  0.573460   \n",
       "11     1.261427 -0.615010 -0.755886 -0.239519  0.663213 -1.214216  1.447737   \n",
       "12     0.409583 -0.610219 -0.530149 -0.958150  0.714657 -0.270439  1.074056   \n",
       "13    -0.105258  1.647386  0.746626 -0.553883 -1.420393  0.152901  0.036364   \n",
       "14     0.522552 -1.138966 -0.313593 -2.300500  0.139443 -0.677502  1.916296   \n",
       "15     0.125713 -0.334553  0.151241  0.701004 -0.329749 -0.269307 -0.350878   \n",
       "16     0.200083 -0.229877 -0.380064 -0.596505  0.576681 -0.162240  0.634448   \n",
       "17     0.477050 -0.134283 -0.563577 -0.209826  0.783606 -0.616968  0.694400   \n",
       "18    -0.939268 -0.282646 -0.010505  0.723180  0.655060  0.964111 -1.247792   \n",
       "19     0.439522  0.250390 -0.340422 -0.600583  0.348950 -0.105634  0.834665   \n",
       "20     0.373126 -0.335881 -0.094643 -1.219024 -0.125672 -0.666198  1.079791   \n",
       "21    -0.589221 -0.762998  0.884441  1.777245 -1.240278 -0.930614 -1.816798   \n",
       "22    -0.056373  0.003418 -0.988696 -0.803319  1.908768 -0.109999  0.700375   \n",
       "23    -0.670265  0.898939  0.704707  1.783110 -0.839425  0.217024 -1.841987   \n",
       "24     1.222479  1.212959  0.155185  1.069032 -1.003446  0.540839  0.383312   \n",
       "25    -0.952112  1.304886 -0.253459  0.087806  1.096372 -0.315574 -0.812887   \n",
       "26     0.754268 -0.288923  0.187159  0.560544 -0.803049 -0.410093  0.270860   \n",
       "27    -0.575702 -1.582086  0.469425  1.294811 -0.471389  0.763746 -1.403566   \n",
       "28     0.054617  0.992169 -0.432344 -0.648978  0.766479 -0.713565  0.553345   \n",
       "29    -0.361108 -1.106667 -0.177464 -0.022529  0.570567  1.719563 -0.252780   \n",
       "...         ...       ...       ...       ...       ...       ...       ...   \n",
       "11545  0.077623 -1.349816  0.019563  0.215003 -0.073497  0.110572 -0.066288   \n",
       "11546 -0.612845 -0.857471 -0.245718 -0.063033  0.858917  1.284820 -0.429263   \n",
       "11547  0.554365 -1.385894 -0.312833 -0.588221  0.223929  1.130051  0.919800   \n",
       "11548  0.959435 -0.876045 -0.492650  0.187773  0.367301 -0.448765  0.857509   \n",
       "11549 -1.608385 -0.606954  1.027482  1.580421 -0.890619 -0.593401 -2.625778   \n",
       "11550 -0.521808  0.165307 -0.471318  0.260038  1.260536  0.127517 -0.481775   \n",
       "11551 -0.130973 -0.489185 -0.225421 -1.024530  0.457320  0.578638  0.559964   \n",
       "11552 -0.218361 -0.435827  0.567601  1.477148 -0.875483 -1.963782 -1.228060   \n",
       "11553  0.605955  0.151207 -0.252817 -0.487511  0.081026 -0.056257  0.888178   \n",
       "11554 -0.058727  1.096019  0.607082 -0.905380 -1.199943 -0.692145  0.325079   \n",
       "11555 -0.237393  1.134163 -0.209748  0.640271  0.596674 -0.108285 -0.532607   \n",
       "11556 -0.418821 -0.280133 -0.090566 -1.208461  0.364414  0.636413  0.382526   \n",
       "11557 -0.126448 -1.065814  0.022143 -0.472463  0.007111  2.791533  0.166378   \n",
       "11558 -1.152379  0.167335  0.053843  2.480657  0.772479  0.421123 -2.501967   \n",
       "11559  1.404660  0.186715 -0.844472 -0.618585  0.722111 -0.527152  1.823305   \n",
       "11560 -0.148869 -0.923950  0.624246  0.331033 -1.100217 -0.939482 -0.497528   \n",
       "11561  0.609214 -0.201425 -0.011233 -1.650010 -0.462842  1.049227  1.520483   \n",
       "11562  1.272837 -0.349691 -1.211811  0.617763  1.595890 -0.579059  1.069071   \n",
       "11563 -0.171130 -0.577751  0.578951 -0.221939 -1.032350  1.499678 -0.173896   \n",
       "11564 -0.909860 -1.014288  0.276321 -1.329303 -0.048293  0.175273 -0.072781   \n",
       "11565 -0.624037 -0.319147 -0.070313  0.688965  0.571301  1.569953 -0.936466   \n",
       "11566  0.278173 -2.648699  0.143799  0.070359 -0.450043 -1.078643  0.161096   \n",
       "11567  0.570537 -0.058851  0.082265 -1.561178 -0.614914 -0.635653  1.408224   \n",
       "11568  0.804360 -0.525205 -0.419161 -0.079583  0.305211  1.152763  0.862317   \n",
       "11569  0.599594 -1.615815 -0.233842 -0.215777  0.064925  0.784557  0.714967   \n",
       "11570 -3.442316  0.455191  0.941669 -0.834807  0.278606 -0.233547 -2.755514   \n",
       "11571 -1.650993 -0.499109 -0.771762 -2.645119  2.374321 -0.200878  0.353774   \n",
       "11572 -1.578543  1.482062  0.672188  0.908843 -0.259848 -0.136924 -2.101467   \n",
       "11573 -0.027608  0.811717 -0.148925 -0.700263  0.263678 -0.180345  0.435261   \n",
       "11574  0.591726  0.435771 -0.009138 -0.912432 -0.410299  0.072242  1.063584   \n",
       "\n",
       "      sentiment_score  \n",
       "0                 2.0  \n",
       "1                 2.0  \n",
       "2                 2.0  \n",
       "3                 3.0  \n",
       "4                 2.0  \n",
       "5                 4.0  \n",
       "6                 2.0  \n",
       "7                 2.0  \n",
       "8                 4.0  \n",
       "9                 2.0  \n",
       "10                2.0  \n",
       "11                0.0  \n",
       "12                2.0  \n",
       "13                0.0  \n",
       "14                2.0  \n",
       "15                2.0  \n",
       "16                2.0  \n",
       "17                2.0  \n",
       "18                2.0  \n",
       "19                2.0  \n",
       "20                2.0  \n",
       "21                4.0  \n",
       "22                4.0  \n",
       "23                4.0  \n",
       "24                4.0  \n",
       "25                0.0  \n",
       "26                2.0  \n",
       "27                2.0  \n",
       "28                2.0  \n",
       "29                2.0  \n",
       "...               ...  \n",
       "11545             2.0  \n",
       "11546             2.0  \n",
       "11547             2.0  \n",
       "11548             2.0  \n",
       "11549             1.0  \n",
       "11550             2.0  \n",
       "11551             3.0  \n",
       "11552             2.0  \n",
       "11553             2.0  \n",
       "11554             2.0  \n",
       "11555             2.0  \n",
       "11556             2.0  \n",
       "11557             2.0  \n",
       "11558             1.0  \n",
       "11559             2.0  \n",
       "11560             2.0  \n",
       "11561             2.0  \n",
       "11562             2.0  \n",
       "11563             1.0  \n",
       "11564             3.0  \n",
       "11565             2.0  \n",
       "11566             0.0  \n",
       "11567             3.0  \n",
       "11568             2.0  \n",
       "11569             3.0  \n",
       "11570             2.0  \n",
       "11571             2.0  \n",
       "11572             3.0  \n",
       "11573             4.0  \n",
       "11574             2.0  \n",
       "\n",
       "[11575 rows x 8 columns]"
      ]
     },
     "execution_count": 133,
     "metadata": {},
     "output_type": "execute_result"
    }
   ],
   "source": [
    "\n",
    "X_test_last"
   ]
  },
  {
   "cell_type": "code",
   "execution_count": 134,
   "metadata": {},
   "outputs": [],
   "source": [
    "y_final=rt_forest_grid.predict(X_test_last)"
   ]
  },
  {
   "cell_type": "code",
   "execution_count": 135,
   "metadata": {},
   "outputs": [],
   "source": [
    "final_output1=pd.DataFrame()"
   ]
  },
  {
   "cell_type": "code",
   "execution_count": 136,
   "metadata": {},
   "outputs": [],
   "source": [
    "final_output1['ID'] = Test_id\n",
    "final_output1['Alpha']=y_final\n"
   ]
  },
  {
   "cell_type": "code",
   "execution_count": 137,
   "metadata": {},
   "outputs": [],
   "source": [
    "final_output1.to_csv(\"RF_withsentimentscore_final.csv\")"
   ]
  },
  {
   "cell_type": "markdown",
   "metadata": {},
   "source": [
    "# On test data without sentiment score"
   ]
  },
  {
   "cell_type": "code",
   "execution_count": 138,
   "metadata": {},
   "outputs": [],
   "source": [
    "X_test_last.drop('sentiment_score',inplace=True,axis=1)"
   ]
  },
  {
   "cell_type": "code",
   "execution_count": 139,
   "metadata": {},
   "outputs": [],
   "source": [
    "y_final_ws=random_without_s.predict(X_test_last)"
   ]
  },
  {
   "cell_type": "code",
   "execution_count": 140,
   "metadata": {},
   "outputs": [],
   "source": [
    "final_output2=pd.DataFrame()"
   ]
  },
  {
   "cell_type": "code",
   "execution_count": 141,
   "metadata": {},
   "outputs": [],
   "source": [
    "final_output2['ID'] = Test_id\n",
    "final_output2['Alpha']=y_final_ws"
   ]
  },
  {
   "cell_type": "code",
   "execution_count": 142,
   "metadata": {},
   "outputs": [],
   "source": [
    "final_output2.to_csv(\"RF_withoutsentimentscore_final.csv\")"
   ]
  }
 ],
 "metadata": {
  "kernelspec": {
   "display_name": "Python 3",
   "language": "python",
   "name": "python3"
  },
  "language_info": {
   "codemirror_mode": {
    "name": "ipython",
    "version": 3
   },
   "file_extension": ".py",
   "mimetype": "text/x-python",
   "name": "python",
   "nbconvert_exporter": "python",
   "pygments_lexer": "ipython3",
   "version": "3.6.10"
  }
 },
 "nbformat": 4,
 "nbformat_minor": 2
}
